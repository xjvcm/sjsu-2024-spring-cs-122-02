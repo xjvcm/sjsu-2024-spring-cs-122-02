{
  "cells": [
    {
      "cell_type": "markdown",
      "id": "49e61e1c",
      "metadata": {
        "id": "49e61e1c"
      },
      "source": [
        "# CS 122 Lecture 2: Sequential Data Types\n",
        "\n",
        "Learning Outcomes:\n",
        "By the end of this lesson, you should be able to:\n",
        "1. Create and access data within sequential data types (lists, tuples, and sets)\n",
        "2. Explain the differences between Python's sequential data types\n",
        "3. Call built-in methods on sequential data types and change from one sequential type to another"
      ]
    },
    {
      "cell_type": "markdown",
      "id": "04e2c288",
      "metadata": {
        "id": "04e2c288"
      },
      "source": [
        "# Lists\n",
        "Lists are used to carry groups of objects - primitive data types, objects, or even other lists\n",
        "\n",
        "Lists typically hold homogenous data, such as integers or strings, and are delineated by square brackets:"
      ]
    },
    {
      "cell_type": "code",
      "execution_count": null,
      "id": "38f5e3b6",
      "metadata": {
        "id": "38f5e3b6",
        "outputId": "1655dc9c-d466-4292-ea4e-528af856e386"
      },
      "outputs": [
        {
          "name": "stdout",
          "output_type": "stream",
          "text": [
            "[1, 2, 3, 4, 5]\n"
          ]
        }
      ],
      "source": [
        "# create a list of integers called my_numbers\n",
        "my_numbers = [1,2,3,4,5]\n",
        "print(my_numbers)"
      ]
    },
    {
      "cell_type": "code",
      "execution_count": null,
      "id": "6ed7cb54",
      "metadata": {
        "colab": {
          "base_uri": "https://localhost:8080/"
        },
        "id": "6ed7cb54",
        "outputId": "7722a8d1-01cc-498c-d1b1-7f50e09fd1e1"
      },
      "outputs": [
        {
          "output_type": "stream",
          "name": "stdout",
          "text": [
            "['This', 'is', 'a', 'list', 'of', 'words']\n"
          ]
        }
      ],
      "source": [
        "# create a list of strings called my_words\n",
        "my_words = [\"This\",\"is\",\"a\",\"list\",\"of\",\"words\"]\n",
        "print(my_words)"
      ]
    },
    {
      "cell_type": "markdown",
      "id": "777f574d",
      "metadata": {
        "id": "777f574d"
      },
      "source": [
        "However, lists can mix and match data types, storing a variety of objects:"
      ]
    },
    {
      "cell_type": "code",
      "execution_count": null,
      "id": "28029001",
      "metadata": {
        "colab": {
          "base_uri": "https://localhost:8080/"
        },
        "id": "28029001",
        "outputId": "f94f1831-2905-4e29-ef72-b1e10c85f641"
      },
      "outputs": [
        {
          "output_type": "stream",
          "name": "stdout",
          "text": [
            "[1, 'a', ['Another', 'list']]\n"
          ]
        }
      ],
      "source": [
        "# create a list called mixed_list which has an integer, a string, and another list\n",
        "mixed_list = [1,\"a\",[\"Another\",\"list\"]]\n",
        "print(mixed_list)"
      ]
    },
    {
      "cell_type": "markdown",
      "id": "36577245-cd0f-43c3-be23-982b692d87e7",
      "metadata": {
        "id": "36577245-cd0f-43c3-be23-982b692d87e7"
      },
      "source": [
        "To access an object within a list, use the index of the item you are interested in:"
      ]
    },
    {
      "cell_type": "code",
      "execution_count": null,
      "id": "ed6fde6a",
      "metadata": {
        "colab": {
          "base_uri": "https://localhost:8080/"
        },
        "id": "ed6fde6a",
        "outputId": "d1ea47ef-2a27-4e63-ad2b-1e37c7f9a695"
      },
      "outputs": [
        {
          "output_type": "stream",
          "name": "stdout",
          "text": [
            "a\n"
          ]
        }
      ],
      "source": [
        "# get the 3rd word in the my_words list\n",
        "third_word = my_words[2]\n",
        "print(third_word)"
      ]
    },
    {
      "cell_type": "markdown",
      "id": "72b0053c",
      "metadata": {
        "id": "72b0053c"
      },
      "source": [
        "If you're interested in more than one element, you can use a range of value with the start index up to the last index, for example:"
      ]
    },
    {
      "cell_type": "code",
      "execution_count": null,
      "id": "b391015a",
      "metadata": {
        "colab": {
          "base_uri": "https://localhost:8080/"
        },
        "id": "b391015a",
        "outputId": "12a46aca-5351-4d8f-dc18-7e31b284f850"
      },
      "outputs": [
        {
          "output_type": "stream",
          "name": "stdout",
          "text": [
            "['is', 'a', 'list']\n"
          ]
        }
      ],
      "source": [
        "# print the words \"is\" \"a\" and \"list\" from the my_words list\n",
        "# Start at index 1, until < 4\n",
        "print(my_words[1:4])"
      ]
    },
    {
      "cell_type": "markdown",
      "id": "19a6e6d3-6b09-41a0-b48f-56b907ecb08a",
      "metadata": {
        "id": "19a6e6d3-6b09-41a0-b48f-56b907ecb08a"
      },
      "source": [
        "To determine the index of a given object in a list, use the list's `.index` method"
      ]
    },
    {
      "cell_type": "code",
      "execution_count": null,
      "id": "5b4c4489-15c6-467d-a013-6ae2be55db7e",
      "metadata": {
        "colab": {
          "base_uri": "https://localhost:8080/"
        },
        "id": "5b4c4489-15c6-467d-a013-6ae2be55db7e",
        "outputId": "2a1cd4a3-3986-427e-e1b2-c7db7cf2e567"
      },
      "outputs": [
        {
          "output_type": "stream",
          "name": "stdout",
          "text": [
            "3\n"
          ]
        }
      ],
      "source": [
        "# get the index of the word 'list' in the my_words list\n",
        "list_index = my_words.index('list')\n",
        "print(list_index)"
      ]
    },
    {
      "cell_type": "markdown",
      "id": "af38848a-198e-4446-834d-d03096accf74",
      "metadata": {
        "id": "af38848a-198e-4446-834d-d03096accf74"
      },
      "source": [
        "### &#x1F4A1; Check your understanding\n",
        "What integer corresponds to the first index in a Python list?"
      ]
    },
    {
      "cell_type": "markdown",
      "id": "c5ab213b-9c20-4b1f-af9c-e400fa4c7a00",
      "metadata": {
        "id": "c5ab213b-9c20-4b1f-af9c-e400fa4c7a00"
      },
      "source": [
        "Answer: 0"
      ]
    },
    {
      "cell_type": "markdown",
      "id": "fb1433b4-a9e4-4dce-b1c5-157c770831fe",
      "metadata": {
        "id": "fb1433b4-a9e4-4dce-b1c5-157c770831fe"
      },
      "source": [
        "### &#x1F914; Mini-Exercise\n",
        "Goal: Print the string representation of a given integer.\n",
        "\n",
        "Method: Use the `.index` method to get the location of the given number in the integer list and use the index to retrieve the string representation from the string list. Be sure to print out your string."
      ]
    },
    {
      "cell_type": "code",
      "execution_count": null,
      "id": "fa3fec92-3ef4-4535-9ab6-0ccd8b2203ed",
      "metadata": {
        "id": "fa3fec92-3ef4-4535-9ab6-0ccd8b2203ed",
        "colab": {
          "base_uri": "https://localhost:8080/",
          "height": 36
        },
        "outputId": "7a8cf177-a9e6-4ceb-b1d3-153632b4285c"
      },
      "outputs": [
        {
          "output_type": "execute_result",
          "data": {
            "text/plain": [
              "'five'"
            ],
            "application/vnd.google.colaboratory.intrinsic+json": {
              "type": "string"
            }
          },
          "metadata": {},
          "execution_count": 6
        }
      ],
      "source": [
        "# integers in the Fibonacci sequence\n",
        "int_list = [1, 2, 3, 5, 8, 13, 21, 34, 55]\n",
        "\n",
        "# string representation of integers in the Fibonacci sequence\n",
        "str_list = ['one', 'two', 'three', 'five', 'eight', 'thirteen',\n",
        "            'twenty-one', 'thirty-four', 'fifty-five']\n",
        "\n",
        "# get the string repesentation of this integer\n",
        "given_integer = 5\n",
        "\n",
        "# enter code here\n",
        "\n",
        "idx = int_list.index(given_integer)\n",
        "\n",
        "print(str_list[idx])"
      ]
    },
    {
      "cell_type": "markdown",
      "id": "1e067f77-c4ae-436f-96f5-011ead0a7e78",
      "metadata": {
        "id": "1e067f77-c4ae-436f-96f5-011ead0a7e78"
      },
      "source": [
        "## Common List Methods:"
      ]
    },
    {
      "cell_type": "markdown",
      "id": "edd44caf-9cbe-4462-a419-12b76f2ce4a9",
      "metadata": {
        "id": "edd44caf-9cbe-4462-a419-12b76f2ce4a9"
      },
      "source": [
        "The following table summarizes some common list methods:"
      ]
    },
    {
      "cell_type": "markdown",
      "id": "8ea2d12a-c6ec-4154-8762-c6ebaba4baa4",
      "metadata": {
        "id": "8ea2d12a-c6ec-4154-8762-c6ebaba4baa4"
      },
      "source": [
        "| Method\t| Description                                                     |\n",
        "| --------- | --------------------------------------------------------------- |\n",
        "| append()  | Adds an element at the end of the list                          |\n",
        "| clear()   | Removes all the elements from the list                          |\n",
        "| copy()\t| Returns a copy of the list                                      |\n",
        "| count()   | Returns the number of elements with the given value             |\n",
        "| extend()  | Add the elements of a list, to the end of the current list      |\n",
        "| index()   | Returns the index of the first element with the specified value |\n",
        "| insert()  | Adds an element at the given position                           |\n",
        "| pop()     | Removes the element at the given position                       |\n",
        "| remove()  | Removes the first item with the given value                     |\n",
        "| reverse() | Reverses the order of the list                                  |\n",
        "| sort()\t| Sorts the list                                                  |"
      ]
    },
    {
      "cell_type": "markdown",
      "id": "07cd0ff3-ee1e-4a40-a5a8-49faf2cd4b22",
      "metadata": {
        "id": "07cd0ff3-ee1e-4a40-a5a8-49faf2cd4b22"
      },
      "source": [
        "# Tuples"
      ]
    },
    {
      "cell_type": "markdown",
      "id": "8297df48-1d49-47e3-b5ce-337cd4891263",
      "metadata": {
        "id": "8297df48-1d49-47e3-b5ce-337cd4891263"
      },
      "source": [
        "Tuples are very similar to lists - they are groups of objects that can be of any size. Tuples are delineated by round parentheses:"
      ]
    },
    {
      "cell_type": "code",
      "execution_count": null,
      "id": "728169d9-278c-45d1-a9a7-b670d2820f09",
      "metadata": {
        "id": "728169d9-278c-45d1-a9a7-b670d2820f09",
        "outputId": "31ac6d6f-1cdd-4edb-e3cb-75b7c5358657",
        "colab": {
          "base_uri": "https://localhost:8080/"
        }
      },
      "outputs": [
        {
          "output_type": "stream",
          "name": "stdout",
          "text": [
            "(1, 2, 3, 4, 5)\n"
          ]
        }
      ],
      "source": [
        "# create a tuple called my_numbers_tuple which has the intergers 1-5\n",
        "my_numbers_tuple = (1, 2, 3, 4, 5)\n",
        "print(my_numbers_tuple)"
      ]
    },
    {
      "cell_type": "markdown",
      "id": "350f8b30-1221-4a49-af32-f46ec7285d5f",
      "metadata": {
        "id": "350f8b30-1221-4a49-af32-f46ec7285d5f"
      },
      "source": [
        "Similar to lists, tuples can mix and match data types:"
      ]
    },
    {
      "cell_type": "code",
      "execution_count": null,
      "id": "41e76627-d92b-4984-9afa-45f5f83586a1",
      "metadata": {
        "id": "41e76627-d92b-4984-9afa-45f5f83586a1",
        "outputId": "a0c7af46-c7a8-43a8-e048-19f5f2731b18",
        "colab": {
          "base_uri": "https://localhost:8080/"
        }
      },
      "outputs": [
        {
          "output_type": "stream",
          "name": "stdout",
          "text": [
            "(1, 'a', ['Another', 'list'])\n"
          ]
        }
      ],
      "source": [
        "# create a tuple which has an integer, a string, and a list\n",
        "my_mixed_tuple = (1,\"a\",[\"Another\",\"list\"])\n",
        "print(my_mixed_tuple)"
      ]
    },
    {
      "cell_type": "markdown",
      "id": "2bb592c9-cb23-4b17-b238-ed7f42d888ff",
      "metadata": {
        "id": "2bb592c9-cb23-4b17-b238-ed7f42d888ff"
      },
      "source": [
        "Tuples have many of the same methods as lists:"
      ]
    },
    {
      "cell_type": "code",
      "execution_count": null,
      "id": "f9f6bb34-785d-4ebd-8e50-774af099cf55",
      "metadata": {
        "id": "f9f6bb34-785d-4ebd-8e50-774af099cf55",
        "outputId": "3a239a97-59f2-4a6b-9c39-26ed88375122",
        "colab": {
          "base_uri": "https://localhost:8080/"
        }
      },
      "outputs": [
        {
          "output_type": "stream",
          "name": "stdout",
          "text": [
            "1\n",
            "5\n"
          ]
        }
      ],
      "source": [
        "# print the first entry in my_numbers_tuple\n",
        "print(my_numbers_tuple[0])\n",
        "\n",
        "# get the number of elements in my_numbers_tuple\n",
        "print(len(my_numbers_tuple))"
      ]
    },
    {
      "cell_type": "markdown",
      "id": "e49aab5d-1982-4705-8b60-37877a3001e6",
      "metadata": {
        "id": "e49aab5d-1982-4705-8b60-37877a3001e6"
      },
      "source": [
        "The main difference between tuples and lists are that tuples are **immutable** - that is, they cannot be changed once they are created. Try this for yourself:"
      ]
    },
    {
      "cell_type": "code",
      "execution_count": null,
      "id": "f8dba7ce-788e-4c54-9169-177125e1420e",
      "metadata": {
        "id": "f8dba7ce-788e-4c54-9169-177125e1420e",
        "outputId": "7d75fa30-ea9e-45f7-bb90-49a3e6a458fa",
        "colab": {
          "base_uri": "https://localhost:8080/",
          "height": 215
        }
      },
      "outputs": [
        {
          "output_type": "error",
          "ename": "TypeError",
          "evalue": "'tuple' object does not support item assignment",
          "traceback": [
            "\u001b[0;31m---------------------------------------------------------------------------\u001b[0m",
            "\u001b[0;31mTypeError\u001b[0m                                 Traceback (most recent call last)",
            "\u001b[0;32m<ipython-input-12-3e199b765ef8>\u001b[0m in \u001b[0;36m<cell line: 2>\u001b[0;34m()\u001b[0m\n\u001b[1;32m      1\u001b[0m \u001b[0;31m# try to change the last element in my_numbers_tuple to the integer 6\u001b[0m\u001b[0;34m\u001b[0m\u001b[0;34m\u001b[0m\u001b[0m\n\u001b[0;32m----> 2\u001b[0;31m \u001b[0mmy_numbers_tuple\u001b[0m\u001b[0;34m[\u001b[0m\u001b[0;36m0\u001b[0m\u001b[0;34m]\u001b[0m \u001b[0;34m=\u001b[0m \u001b[0;36m6\u001b[0m\u001b[0;34m\u001b[0m\u001b[0;34m\u001b[0m\u001b[0m\n\u001b[0m\u001b[1;32m      3\u001b[0m \u001b[0;31m# what happens?\u001b[0m\u001b[0;34m\u001b[0m\u001b[0;34m\u001b[0m\u001b[0m\n",
            "\u001b[0;31mTypeError\u001b[0m: 'tuple' object does not support item assignment"
          ]
        }
      ],
      "source": [
        "# try to change the last element in my_numbers_tuple to the integer 6\n",
        "my_numbers_tuple[-1] = 6\n",
        "# what happens?"
      ]
    },
    {
      "cell_type": "markdown",
      "id": "2f5ea998",
      "metadata": {
        "id": "2f5ea998"
      },
      "source": [
        "Lists and tuples can be converted to one another by wrapping them in the desired sequence type."
      ]
    },
    {
      "cell_type": "code",
      "source": [
        "# Int to string\n",
        "\n",
        "it = 1\n",
        "\n",
        "str(it)"
      ],
      "metadata": {
        "colab": {
          "base_uri": "https://localhost:8080/",
          "height": 36
        },
        "id": "07ijcG71M7LE",
        "outputId": "bd973852-6861-43f1-b02f-5fa8939bd63e"
      },
      "id": "07ijcG71M7LE",
      "execution_count": null,
      "outputs": [
        {
          "output_type": "execute_result",
          "data": {
            "text/plain": [
              "'1'"
            ],
            "application/vnd.google.colaboratory.intrinsic+json": {
              "type": "string"
            }
          },
          "metadata": {},
          "execution_count": 13
        }
      ]
    },
    {
      "cell_type": "code",
      "execution_count": null,
      "id": "8bb251f2",
      "metadata": {
        "id": "8bb251f2",
        "outputId": "77b927a7-b5ea-40d2-c9f0-1d4505ec7266",
        "colab": {
          "base_uri": "https://localhost:8080/"
        }
      },
      "outputs": [
        {
          "output_type": "stream",
          "name": "stdout",
          "text": [
            "[1, 2, 3, 4]\n",
            "<class 'list'>\n",
            " \n",
            "(1, 2, 3, 4)\n",
            "<class 'tuple'>\n",
            " \n",
            "[1, 2, 3, 4]\n",
            "<class 'list'>\n"
          ]
        }
      ],
      "source": [
        "# create a list of objects\n",
        "my_list = [1,2,3,4]\n",
        "print(my_list)\n",
        "print(type(my_list))\n",
        "print(' ')\n",
        "\n",
        "# convert the list to a tuple and print its type\n",
        "my_list = tuple(my_list)\n",
        "print(my_list)\n",
        "print(type(my_list))\n",
        "print(' ')\n",
        "\n",
        "# convert the tuple back to a list and print its type\n",
        "my_list = list(my_list)\n",
        "print(my_list)\n",
        "print(type(my_list))"
      ]
    },
    {
      "cell_type": "markdown",
      "id": "bde75bb1-8dc5-4f54-b408-58d65b5067f3",
      "metadata": {
        "id": "bde75bb1-8dc5-4f54-b408-58d65b5067f3"
      },
      "source": [
        "# Sets"
      ]
    },
    {
      "cell_type": "markdown",
      "id": "ab535f21",
      "metadata": {
        "id": "ab535f21"
      },
      "source": [
        "Sets are similar to lists and tuples except that they only store unique values. They are initialized with curly brackets `{}`"
      ]
    },
    {
      "cell_type": "code",
      "execution_count": null,
      "id": "f7961c95",
      "metadata": {
        "id": "f7961c95",
        "outputId": "5e7d74d8-d028-42b6-c13b-183e028d20e0",
        "colab": {
          "base_uri": "https://localhost:8080/"
        }
      },
      "outputs": [
        {
          "output_type": "stream",
          "name": "stdout",
          "text": [
            "{1, 2, 3, 4}\n",
            "{1, 2, 3, 4}\n"
          ]
        }
      ],
      "source": [
        "# initialize a set of numbers\n",
        "my_set_1 = {1,2,3,4}\n",
        "print(my_set_1)\n",
        "\n",
        "# initialize a set of number with duplicates - what happens?\n",
        "my_set_2 = {1,2,3,4,4,4}\n",
        "print(my_set_2)\n"
      ]
    },
    {
      "cell_type": "markdown",
      "id": "072f8c17",
      "metadata": {
        "id": "072f8c17"
      },
      "source": [
        "Just like tuples, sets can be converted to lists and vice verse. However, the uniqueness feature of sets means that duplicates will be removed. Try this for yourself:"
      ]
    },
    {
      "cell_type": "code",
      "execution_count": null,
      "id": "06bd9e0d",
      "metadata": {
        "id": "06bd9e0d",
        "outputId": "545e6add-23b5-4256-9e76-ca7e1defede8"
      },
      "outputs": [
        {
          "name": "stdout",
          "output_type": "stream",
          "text": [
            "[1, 2, 2, 3, 3, 4, 4]\n",
            "{1, 2, 3, 4}\n"
          ]
        }
      ],
      "source": [
        "# make a list with duplicates\n",
        "my_duplicate_list = [1,2,2,3,3,4,4]\n",
        "print(my_duplicate_list)\n",
        "\n",
        "# convert the list to a set\n",
        "my_duplicate_list = set(my_duplicate_list)\n",
        "print(my_duplicate_list)"
      ]
    },
    {
      "cell_type": "markdown",
      "id": "d1f95969",
      "metadata": {
        "id": "d1f95969"
      },
      "source": [
        "### &#x1F914; Mini-Exercise\n",
        "Goal: Get a list of unqiue values in a list with duplicates.\n"
      ]
    },
    {
      "cell_type": "code",
      "execution_count": null,
      "id": "19e1feae",
      "metadata": {
        "id": "19e1feae",
        "colab": {
          "base_uri": "https://localhost:8080/"
        },
        "outputId": "17d80b8f-9094-4908-da12-518841d58e50"
      },
      "outputs": [
        {
          "output_type": "stream",
          "name": "stdout",
          "text": [
            "['Barrera', 'Chan', 'Ho', 'Kim', 'Le', 'Nguyen', 'Shah', 'Sharma', 'Wong']\n",
            "['Barrera', 'Chan', 'Ho', 'Kim', 'Le', 'Nguyen', 'Shah', 'Sharma', 'Wong']\n"
          ]
        }
      ],
      "source": [
        "# list of student surnames with duplicates\n",
        "student_surnames = ['Shah', 'Chan', 'Nguyen', 'Ho', 'Kim', 'Le', 'Nguyen', 'Barrera',\n",
        "                    'Nguyen', 'Sharma', 'Wong', 'Nguyen', 'Kim', 'Shah']\n",
        "\n",
        "# make a list of unique student surnames\n",
        "# print the surnames in alphabetical order\n",
        "\n",
        "# Ans:\n",
        "\n",
        "# To get unique\n",
        "student_surnames = list(set(student_surnames))\n",
        "\n",
        "# To Sort\n",
        "student_surnames.sort() # In-place sorting\n",
        "print(student_surnames)\n",
        "\n",
        "# OR\n",
        "\n",
        "student_surnames = sorted(student_surnames)\n",
        "print(student_surnames)"
      ]
    }
  ],
  "metadata": {
    "kernelspec": {
      "display_name": "teaching",
      "language": "python",
      "name": "teaching"
    },
    "language_info": {
      "codemirror_mode": {
        "name": "ipython",
        "version": 3
      },
      "file_extension": ".py",
      "mimetype": "text/x-python",
      "name": "python",
      "nbconvert_exporter": "python",
      "pygments_lexer": "ipython3",
      "version": "3.11.3"
    },
    "colab": {
      "provenance": []
    }
  },
  "nbformat": 4,
  "nbformat_minor": 5
}