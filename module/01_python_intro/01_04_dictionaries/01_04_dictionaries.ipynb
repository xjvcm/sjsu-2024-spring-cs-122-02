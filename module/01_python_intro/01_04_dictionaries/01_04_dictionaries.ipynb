{
  "cells": [
    {
      "cell_type": "markdown",
      "id": "49e61e1c",
      "metadata": {
        "id": "49e61e1c"
      },
      "source": [
        "# CS 122 Lecture 3: Dictionaries"
      ]
    },
    {
      "cell_type": "markdown",
      "id": "0c3a7daa-0a0a-481c-974f-6acd970606db",
      "metadata": {
        "id": "0c3a7daa-0a0a-481c-974f-6acd970606db"
      },
      "source": [
        "Learning Objectives:\n",
        "By the end of this lesson, you should be able to:\n",
        "1. Create and edit Python dictionaries\n",
        "2. Describe the types of items that can used as keys in a dictionary"
      ]
    },
    {
      "cell_type": "markdown",
      "id": "0d4b0f71",
      "metadata": {
        "id": "0d4b0f71"
      },
      "source": [
        "# Creating and Editing Dictionaries"
      ]
    },
    {
      "cell_type": "markdown",
      "id": "acf1e5a8",
      "metadata": {
        "id": "acf1e5a8"
      },
      "source": [
        "Dictionaries are used as a \"look-up table\" that associate two sets of objects. The items or \"keys\" in a dictionary must be unique but the correspondence does not need to be one-to-one."
      ]
    },
    {
      "cell_type": "code",
      "execution_count": null,
      "id": "58d5c54f",
      "metadata": {
        "id": "58d5c54f"
      },
      "outputs": [],
      "source": [
        "# make a dictionary to reference integers to their string representations\n",
        "my_dict = {1:\"one\",\n",
        "           2:\"two\",\n",
        "           3:\"three\"}"
      ]
    },
    {
      "cell_type": "markdown",
      "id": "df75076a",
      "metadata": {
        "id": "df75076a"
      },
      "source": [
        "To access the value corresponding to a key in the dictionary, pass the key:"
      ]
    },
    {
      "cell_type": "code",
      "execution_count": null,
      "id": "10231524",
      "metadata": {
        "id": "10231524",
        "colab": {
          "base_uri": "https://localhost:8080/"
        },
        "outputId": "e444b7ed-dae0-491e-d7f2-24c9030d4bbc"
      },
      "outputs": [
        {
          "output_type": "stream",
          "name": "stdout",
          "text": [
            "two\n"
          ]
        }
      ],
      "source": [
        "# get the string representation of the interger 2\n",
        "print(my_dict[2])"
      ]
    },
    {
      "cell_type": "markdown",
      "id": "8546d5a5",
      "metadata": {
        "id": "8546d5a5"
      },
      "source": [
        "We can access all of the look-up values with the `.keys()` method:"
      ]
    },
    {
      "cell_type": "code",
      "execution_count": null,
      "id": "7db476bf",
      "metadata": {
        "id": "7db476bf",
        "colab": {
          "base_uri": "https://localhost:8080/"
        },
        "outputId": "77d4d1cf-fbaf-4802-b6eb-35534d982de1"
      },
      "outputs": [
        {
          "output_type": "execute_result",
          "data": {
            "text/plain": [
              "dict_keys([1, 2, 3])"
            ]
          },
          "metadata": {},
          "execution_count": 3
        }
      ],
      "source": [
        "# use the keys() method to access the dictionary keys\n",
        "my_dict.keys()"
      ]
    },
    {
      "cell_type": "markdown",
      "id": "cb8096f9-7aa9-4245-88bd-0a3eec091f61",
      "metadata": {
        "id": "cb8096f9-7aa9-4245-88bd-0a3eec091f61"
      },
      "source": [
        "It's important to note that the keys aren't a list:"
      ]
    },
    {
      "cell_type": "code",
      "execution_count": null,
      "id": "aae95910-ce40-4e29-9734-8cb4d3ea68b6",
      "metadata": {
        "id": "aae95910-ce40-4e29-9734-8cb4d3ea68b6",
        "colab": {
          "base_uri": "https://localhost:8080/",
          "height": 233
        },
        "outputId": "b87b42f2-ab2d-4f53-ab39-85a9b1c43e7c"
      },
      "outputs": [
        {
          "output_type": "stream",
          "name": "stdout",
          "text": [
            "<class 'dict_keys'>\n"
          ]
        },
        {
          "output_type": "error",
          "ename": "TypeError",
          "evalue": "'dict_keys' object is not subscriptable",
          "traceback": [
            "\u001b[0;31m---------------------------------------------------------------------------\u001b[0m",
            "\u001b[0;31mTypeError\u001b[0m                                 Traceback (most recent call last)",
            "\u001b[0;32m<ipython-input-6-9ede42c4d3a9>\u001b[0m in \u001b[0;36m<cell line: 7>\u001b[0;34m()\u001b[0m\n\u001b[1;32m      5\u001b[0m \u001b[0mkeys\u001b[0m \u001b[0;34m=\u001b[0m \u001b[0mmy_dict\u001b[0m\u001b[0;34m.\u001b[0m\u001b[0mkeys\u001b[0m\u001b[0;34m(\u001b[0m\u001b[0;34m)\u001b[0m\u001b[0;34m\u001b[0m\u001b[0;34m\u001b[0m\u001b[0m\n\u001b[1;32m      6\u001b[0m \u001b[0;31m# keys\u001b[0m\u001b[0;34m\u001b[0m\u001b[0;34m\u001b[0m\u001b[0m\n\u001b[0;32m----> 7\u001b[0;31m \u001b[0mprint\u001b[0m\u001b[0;34m(\u001b[0m\u001b[0mkeys\u001b[0m\u001b[0;34m[\u001b[0m\u001b[0;36m0\u001b[0m\u001b[0;34m]\u001b[0m\u001b[0;34m)\u001b[0m \u001b[0;31m# Error\u001b[0m\u001b[0;34m\u001b[0m\u001b[0;34m\u001b[0m\u001b[0m\n\u001b[0m",
            "\u001b[0;31mTypeError\u001b[0m: 'dict_keys' object is not subscriptable"
          ]
        }
      ],
      "source": [
        "# check the type of the dict keys\n",
        "print(type(my_dict.keys()))\n",
        "\n",
        "# try to access one of the keys using an index - what happens?\n",
        "keys = my_dict.keys()\n",
        "# keys\n",
        "print(keys[0]) # Error"
      ]
    },
    {
      "cell_type": "code",
      "source": [
        "# Dictionaries can support multiple data types as keys and values. You can use an integer, float, string, or Boolean as a dictionary key, but not set, list or dictionary\n",
        "\n",
        "mix_dict = {\n",
        "              1: 'int',\n",
        "              'str_key': ['Some', 'list'],\n",
        "              (2.3, 'float'): {'set', 1}\n",
        "          }\n",
        "\n",
        "print(mix_dict)"
      ],
      "metadata": {
        "colab": {
          "base_uri": "https://localhost:8080/"
        },
        "id": "SOPLlMo99wI8",
        "outputId": "637ef0c9-e658-4c14-e166-2c02432f257e"
      },
      "id": "SOPLlMo99wI8",
      "execution_count": null,
      "outputs": [
        {
          "output_type": "stream",
          "name": "stdout",
          "text": [
            "{1: 'int', 'str_key': ['Some', 'list'], (2.3, 'float'): {'set', 1}}\n"
          ]
        }
      ]
    },
    {
      "cell_type": "markdown",
      "id": "7b20e52f",
      "metadata": {
        "id": "7b20e52f"
      },
      "source": [
        "Dictionaries are flexible and can be resized as needed. Editing a dictionary is similar to lists: dictionaries have a `pop` method for removing keys and keys can be (re-)assigned in a dictionary using the index notation:"
      ]
    },
    {
      "cell_type": "code",
      "execution_count": null,
      "id": "a0b2f9ca",
      "metadata": {
        "id": "a0b2f9ca",
        "colab": {
          "base_uri": "https://localhost:8080/"
        },
        "outputId": "079ef5ae-9858-4bdd-dfbe-ac7997384bf3"
      },
      "outputs": [
        {
          "output_type": "stream",
          "name": "stdout",
          "text": [
            "{1: 'one', 3: 'three'}\n"
          ]
        }
      ],
      "source": [
        "# remove the 2:\"two\" key value pair using the pop method:\n",
        "my_dict.pop(2)\n",
        "\n",
        "# add a 4:\"four\" key-value pair using index notation:\n",
        "my_dict[4] = \"four\"\n",
        "\n",
        "del my_dict[4] # Another way to delete in dictionary\n",
        "\n",
        "# print my_dict\n",
        "print(my_dict)"
      ]
    },
    {
      "cell_type": "markdown",
      "id": "b55f32f1-1522-4466-8c09-c7ddeb3235fe",
      "metadata": {
        "id": "b55f32f1-1522-4466-8c09-c7ddeb3235fe"
      },
      "source": [
        "### &#x1F914; Mini-Exercise\n",
        "Make a dictionary for the following names of classes:\n",
        "\n",
        "| Department Code | Course Number | Course Name       |\n",
        "| --------------- | ------------- | ----------------- |\n",
        "| MATH            | 123           | Advanced Calculus |\n",
        "| MATH            | 133           | Partial Differential Equations |\n",
        "| CS              | 123           | Bioinformatics    |\n",
        "| CS              | 133           | Introduction to Data Visualization |\n",
        "\n",
        "You should be able to pass a pair of values (tuple) corresponding to the department code (str) and the course number (int) and the dictionary should return the course name."
      ]
    },
    {
      "cell_type": "code",
      "execution_count": null,
      "id": "5de2d9e5-8bd7-4af8-b17f-919f83394515",
      "metadata": {
        "id": "5de2d9e5-8bd7-4af8-b17f-919f83394515",
        "colab": {
          "base_uri": "https://localhost:8080/",
          "height": 36
        },
        "outputId": "0962efea-08b9-4956-f1f6-bc886cd780ae"
      },
      "outputs": [
        {
          "output_type": "execute_result",
          "data": {
            "text/plain": [
              "'Advanced Calculus'"
            ],
            "application/vnd.google.colaboratory.intrinsic+json": {
              "type": "string"
            }
          },
          "metadata": {},
          "execution_count": 11
        }
      ],
      "source": [
        "# create your dictionary here\n",
        "course_dict = {\n",
        "    ('MATH', 123) : 'Advanced Calculus',\n",
        "    ('MATH', 133) : 'Partial Differential Equations',\n",
        "    ('CS', 123) : 'Bioinformatics',\n",
        "    ('CS', 133): 'Introduction to Data Visualization'\n",
        "}\n",
        "\n",
        "course_dict[('MATH', 123)]"
      ]
    },
    {
      "cell_type": "markdown",
      "id": "7f966cba",
      "metadata": {
        "id": "7f966cba"
      },
      "source": [
        "## &#x2757; Syntax Warning\n",
        "Python uses the same syntax for sets and dictionaries -- the curly braces `{}`. The only difference is that dictionary entries are included in pairs separated by colons while sets have entries like a list"
      ]
    },
    {
      "cell_type": "markdown",
      "id": "e8ef61db-70d6-4a4e-8c2e-3ec5d25bedff",
      "metadata": {
        "id": "e8ef61db-70d6-4a4e-8c2e-3ec5d25bedff"
      },
      "source": [
        "## Common Dictionary Methods\n",
        "\n",
        "| Method\t| Description                                                            |\n",
        "| --------- | ---------------------------------------------------------------------- |\n",
        "| keys()    | Views all the keys in the dictionary                                   |\n",
        "| values()  | Views all the values in the dictionary                                 |\n",
        "| get()    \t| Returns the value of a key if it exists, otherwise returns a default   |\n",
        "| copy()    | Makes a copy of the dictionary                                         |\n",
        "| update()  | Updates the entries of a dictionary given those in a second dictionary |"
      ]
    },
    {
      "cell_type": "markdown",
      "id": "3d122a06-53d5-43e5-8f3f-744c702b49bd",
      "metadata": {
        "id": "3d122a06-53d5-43e5-8f3f-744c702b49bd"
      },
      "source": [
        "### Using `get` rather than a key explicitly\n"
      ]
    },
    {
      "cell_type": "code",
      "execution_count": null,
      "id": "346f6bcd-abe9-4876-9e2a-22317d9deae4",
      "metadata": {
        "id": "346f6bcd-abe9-4876-9e2a-22317d9deae4",
        "colab": {
          "base_uri": "https://localhost:8080/",
          "height": 269
        },
        "outputId": "0ab2bfdb-b1d2-4ea6-d1aa-7c2b364f7583"
      },
      "outputs": [
        {
          "output_type": "stream",
          "name": "stdout",
          "text": [
            "Deep\n",
            "Deep\n",
            "None\n"
          ]
        },
        {
          "output_type": "error",
          "ename": "KeyError",
          "evalue": "'Middle Name'",
          "traceback": [
            "\u001b[0;31m---------------------------------------------------------------------------\u001b[0m",
            "\u001b[0;31mKeyError\u001b[0m                                  Traceback (most recent call last)",
            "\u001b[0;32m<ipython-input-1-7d146844798c>\u001b[0m in \u001b[0;36m<cell line: 11>\u001b[0;34m()\u001b[0m\n\u001b[1;32m      9\u001b[0m \u001b[0;31m# # but it is beneficial to use in case the entry cannot be found\u001b[0m\u001b[0;34m\u001b[0m\u001b[0;34m\u001b[0m\u001b[0m\n\u001b[1;32m     10\u001b[0m \u001b[0mprint\u001b[0m\u001b[0;34m(\u001b[0m\u001b[0mmy_dict\u001b[0m\u001b[0;34m.\u001b[0m\u001b[0mget\u001b[0m\u001b[0;34m(\u001b[0m\u001b[0;34m'Middle Name'\u001b[0m\u001b[0;34m)\u001b[0m\u001b[0;34m)\u001b[0m \u001b[0;31m# Returns None\u001b[0m\u001b[0;34m\u001b[0m\u001b[0;34m\u001b[0m\u001b[0m\n\u001b[0;32m---> 11\u001b[0;31m \u001b[0mprint\u001b[0m\u001b[0;34m(\u001b[0m\u001b[0mmy_dict\u001b[0m\u001b[0;34m[\u001b[0m\u001b[0;34m'Middle Name'\u001b[0m\u001b[0;34m]\u001b[0m\u001b[0;34m)\u001b[0m  \u001b[0;31m# Gives Error\u001b[0m\u001b[0;34m\u001b[0m\u001b[0;34m\u001b[0m\u001b[0m\n\u001b[0m",
            "\u001b[0;31mKeyError\u001b[0m: 'Middle Name'"
          ]
        }
      ],
      "source": [
        "# define a dictionary with two entries\n",
        "my_dict = {'Name':'Deep','Surname':'Shah'}\n",
        "\n",
        "# the get method works the same as acessing with a key as long as the entry is in the dict\n",
        "print(my_dict.get('Name',None))\n",
        "print(my_dict['Name'])\n",
        "\n",
        "\n",
        "# # but it is beneficial to use in case the entry cannot be found\n",
        "print(my_dict.get('Middle Name')) # Returns None\n",
        "print(my_dict['Middle Name'])  # Gives Error"
      ]
    },
    {
      "cell_type": "markdown",
      "id": "a84b4bc8-a0bc-4ac2-a2ed-fe4d77de3992",
      "metadata": {
        "id": "a84b4bc8-a0bc-4ac2-a2ed-fe4d77de3992"
      },
      "source": [
        "## Combining Dictionaries\n",
        "Dictionaries can be combined using a union or in place."
      ]
    },
    {
      "cell_type": "code",
      "execution_count": null,
      "id": "18430f61-dcb0-4133-825a-4928221c96c0",
      "metadata": {
        "id": "18430f61-dcb0-4133-825a-4928221c96c0",
        "colab": {
          "base_uri": "https://localhost:8080/"
        },
        "outputId": "c32f3c2c-472a-4069-c273-cee7aaaaaaee"
      },
      "outputs": [
        {
          "output_type": "stream",
          "name": "stdout",
          "text": [
            "c {'one': 1, 'two': 2}\n",
            "a {'one': 1}\n",
            "d {'one': 1, 'two': 2}\n",
            "a new {'one': 1, 'two': 2}\n"
          ]
        }
      ],
      "source": [
        "# As of Python 3.9, the union operator can be used to join two dictionaries\n",
        "a = {'one':1}\n",
        "b = {'two':2}\n",
        "c = a | b\n",
        "print('c', c)\n",
        "\n",
        "# However, this does not change the dictionary contents\n",
        "print('a', a)\n",
        "\n",
        "# You can also use dictionary unpacking\n",
        "d = {**a, **b}\n",
        "print('d', d)\n",
        "\n",
        "# If you want to join in place, use the update method\n",
        "a.update(b)\n",
        "print('a new', a)"
      ]
    },
    {
      "cell_type": "markdown",
      "source": [
        "### &#x1F914; Mini-Exercises\n",
        "\n",
        "*   Not graded\n",
        "\n",
        "*   **Create a copy of the notebook to save your work** (applies to all future execises)\n",
        "\n",
        "\n",
        "\n",
        "\n",
        "\n",
        "\n"
      ],
      "metadata": {
        "id": "1VfRfKX_Q18m"
      },
      "id": "1VfRfKX_Q18m"
    },
    {
      "cell_type": "markdown",
      "source": [
        "1. Use modulo to find the remainder when 403 is divided by 73"
      ],
      "metadata": {
        "id": "wXfG8EWzROHX"
      },
      "id": "wXfG8EWzROHX"
    },
    {
      "cell_type": "code",
      "source": [
        "403 % 73"
      ],
      "metadata": {
        "id": "1FmcN2ygRPMA",
        "colab": {
          "base_uri": "https://localhost:8080/"
        },
        "outputId": "fb14ef34-0f11-4aa4-cbdd-e28aea7f694c"
      },
      "id": "1FmcN2ygRPMA",
      "execution_count": null,
      "outputs": [
        {
          "output_type": "execute_result",
          "data": {
            "text/plain": [
              "38"
            ]
          },
          "metadata": {},
          "execution_count": 17
        }
      ]
    },
    {
      "cell_type": "markdown",
      "source": [
        "2. Find absolute value for 3 squared minus square root of 86\n",
        "\n"
      ],
      "metadata": {
        "id": "2vMnwbH1RPwY"
      },
      "id": "2vMnwbH1RPwY"
    },
    {
      "cell_type": "code",
      "source": [
        "abs(3**2 - 86**0.5)"
      ],
      "metadata": {
        "id": "3CD5q8lKRlTa",
        "colab": {
          "base_uri": "https://localhost:8080/"
        },
        "outputId": "fae1c0a4-7804-4478-c08e-b3d7c0317223"
      },
      "id": "3CD5q8lKRlTa",
      "execution_count": null,
      "outputs": [
        {
          "output_type": "execute_result",
          "data": {
            "text/plain": [
              "0.27361849549570394"
            ]
          },
          "metadata": {},
          "execution_count": 18
        }
      ]
    },
    {
      "cell_type": "markdown",
      "source": [
        "3. What is the output of the following dictionary operation?\n",
        "\n",
        "  ```\n",
        "  dict1 = {\"name\": \"Sam\", \"salary\": 4000}\n",
        "  temp = dict1.get(\"age\", 0)\n",
        "  print(temp)\n",
        "  ```"
      ],
      "metadata": {
        "id": "KZiaXspKSdFy"
      },
      "id": "KZiaXspKSdFy"
    },
    {
      "cell_type": "code",
      "source": [
        "dict1 = {\"name\": \"Sam\", \"salary\": 4000}\n",
        "temp = dict1.get(\"age\", 0)\n",
        "print(temp)"
      ],
      "metadata": {
        "id": "h0v1PsXeZiid",
        "colab": {
          "base_uri": "https://localhost:8080/"
        },
        "outputId": "ef850c24-98a6-434c-a817-32a26a7f6035"
      },
      "id": "h0v1PsXeZiid",
      "execution_count": null,
      "outputs": [
        {
          "output_type": "stream",
          "name": "stdout",
          "text": [
            "0\n"
          ]
        }
      ]
    },
    {
      "cell_type": "markdown",
      "source": [
        "Ans: 0"
      ],
      "metadata": {
        "id": "hr2TmB6wVDPF"
      },
      "id": "hr2TmB6wVDPF"
    },
    {
      "cell_type": "markdown",
      "source": [
        "4. What is the output of the following?"
      ],
      "metadata": {
        "id": "83On0GQQVZL2"
      },
      "id": "83On0GQQVZL2"
    },
    {
      "cell_type": "code",
      "source": [
        "sampleDict = dict([\n",
        "    ('first', 1),\n",
        "    ('second', 2),\n",
        "    ('third', 3)\n",
        "])\n",
        "\n",
        "print(sampleDict)"
      ],
      "metadata": {
        "id": "iLOLaSbIVUV7",
        "colab": {
          "base_uri": "https://localhost:8080/"
        },
        "outputId": "00bc4fce-5159-49db-d616-e46b3d860e91"
      },
      "id": "iLOLaSbIVUV7",
      "execution_count": null,
      "outputs": [
        {
          "output_type": "stream",
          "name": "stdout",
          "text": [
            "{'first': 1, 'second': 2, 'third': 3}\n"
          ]
        }
      ]
    },
    {
      "cell_type": "markdown",
      "source": [
        "5. Change the value of a **history** subject to 82"
      ],
      "metadata": {
        "id": "cFEiXmXCVi4G"
      },
      "id": "cFEiXmXCVi4G"
    },
    {
      "cell_type": "code",
      "source": [
        "sampleDict = {\n",
        "   \"class\": {\n",
        "      \"student\": {\n",
        "         \"name\": \"Deep\",\n",
        "         \"marks\": {\n",
        "            \"physics\": 70,\n",
        "            \"history\": 80\n",
        "         }\n",
        "      }\n",
        "   }\n",
        "}\n",
        "\n",
        "# Enter code here\n",
        "sampleDict[\"class\"][\"student\"][\"marks\"][\"history\"] = 82\n",
        "sampleDict"
      ],
      "metadata": {
        "id": "khmeiQAGVtpT",
        "colab": {
          "base_uri": "https://localhost:8080/"
        },
        "outputId": "fe2b1855-42ca-46ed-97fb-15560fbbf62d"
      },
      "id": "khmeiQAGVtpT",
      "execution_count": null,
      "outputs": [
        {
          "output_type": "execute_result",
          "data": {
            "text/plain": [
              "{'class': {'student': {'name': 'Deep',\n",
              "   'marks': {'physics': 70, 'history': 82}}}}"
            ]
          },
          "metadata": {},
          "execution_count": 22
        }
      ]
    },
    {
      "cell_type": "markdown",
      "source": [
        "6. Merge two Python dictionaries into one"
      ],
      "metadata": {
        "id": "1FbP8Lo6X0jX"
      },
      "id": "1FbP8Lo6X0jX"
    },
    {
      "cell_type": "code",
      "source": [
        "dict1 = {'Ten': 10, 'Twenty': 20, 'Thirty': 30}\n",
        "dict2 = {'Thirty': 30, 'Fourty': 40, 'Fifty': 50}\n",
        "\n",
        "# Enter code here\n",
        "dict3 = {**dict1, **dict2}\n",
        "dict3"
      ],
      "metadata": {
        "id": "It1oQAdsX2r4",
        "colab": {
          "base_uri": "https://localhost:8080/"
        },
        "outputId": "b201a22c-cb8b-496f-88fe-c65ebe8c527d"
      },
      "id": "It1oQAdsX2r4",
      "execution_count": null,
      "outputs": [
        {
          "output_type": "execute_result",
          "data": {
            "text/plain": [
              "{'Ten': 10, 'Twenty': 20, 'Thirty': 30, 'Fourty': 40, 'Fifty': 50}"
            ]
          },
          "metadata": {},
          "execution_count": 23
        }
      ]
    },
    {
      "cell_type": "markdown",
      "source": [
        "7. Write a program to rename a key `city` to `location` in the following dictionary\n",
        "\n",
        "  *Hint:* Remove the city from a given dictionary and add a new key (location) into a dictionary with the same value"
      ],
      "metadata": {
        "id": "8LsUdTDiYSn1"
      },
      "id": "8LsUdTDiYSn1"
    },
    {
      "cell_type": "code",
      "source": [
        "sample_dict = {\n",
        "  \"name\": \"Kelly\",\n",
        "  \"age\": 25,\n",
        "  \"salary\": 8000,\n",
        "  \"city\": \"New york\"\n",
        "}\n",
        "\n",
        "# Enter code below\n",
        "sample_dict[\"location\"] = sample_dict.pop(\"city\")\n",
        "sample_dict"
      ],
      "metadata": {
        "id": "kazU-8deYm5S",
        "colab": {
          "base_uri": "https://localhost:8080/"
        },
        "outputId": "7ee49e26-14e5-431b-b8ba-8d4b02763679"
      },
      "id": "kazU-8deYm5S",
      "execution_count": null,
      "outputs": [
        {
          "output_type": "execute_result",
          "data": {
            "text/plain": [
              "{'name': 'Kelly', 'age': 25, 'salary': 8000, 'location': 'New york'}"
            ]
          },
          "metadata": {},
          "execution_count": 25
        }
      ]
    }
  ],
  "metadata": {
    "kernelspec": {
      "display_name": "teaching",
      "language": "python",
      "name": "teaching"
    },
    "language_info": {
      "codemirror_mode": {
        "name": "ipython",
        "version": 3
      },
      "file_extension": ".py",
      "mimetype": "text/x-python",
      "name": "python",
      "nbconvert_exporter": "python",
      "pygments_lexer": "ipython3",
      "version": "3.11.3"
    },
    "colab": {
      "provenance": []
    }
  },
  "nbformat": 4,
  "nbformat_minor": 5
}