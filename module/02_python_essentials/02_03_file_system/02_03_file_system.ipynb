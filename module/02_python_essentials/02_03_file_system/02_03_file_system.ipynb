{
  "cells": [
    {
      "cell_type": "markdown",
      "id": "49e61e1c",
      "metadata": {
        "id": "49e61e1c"
      },
      "source": [
        "# CS 122 Lecture 7: Using the file system"
      ]
    },
    {
      "cell_type": "markdown",
      "id": "0c3a7daa-0a0a-481c-974f-6acd970606db",
      "metadata": {
        "id": "0c3a7daa-0a0a-481c-974f-6acd970606db"
      },
      "source": [
        "Learning Objectives:\n",
        "By the end of this lesson, you should be able to:\n",
        "1. Use the `os` module to write platform-independent scripts to access information about the file system\n",
        "2. Copy files using the `shutil` module\n",
        "3. Use the `glob` module to write Unix-type file search commands"
      ]
    },
    {
      "cell_type": "markdown",
      "source": [
        "**Note: To follow along, make a copy of this module in CS_122 folder created for Assignment 1**"
      ],
      "metadata": {
        "id": "Lql3WxGlCIv7"
      },
      "id": "Lql3WxGlCIv7"
    },
    {
      "cell_type": "markdown",
      "id": "f404e03e-ec21-4b42-a826-7e395d6e6c47",
      "metadata": {
        "id": "f404e03e-ec21-4b42-a826-7e395d6e6c47"
      },
      "source": [
        "### Import Modules for this Notebook\n",
        "In the previous notebook introducing modules, we imported modules as we needed them. However, it is good practice to import all of the modules you need in your notebook (or other scripts) in one import block near the top of the file. For this notebook, we will use 4 modules:"
      ]
    },
    {
      "cell_type": "code",
      "execution_count": null,
      "id": "eeff5eb6-80dc-4a7e-9f72-79f30aac49a3",
      "metadata": {
        "id": "eeff5eb6-80dc-4a7e-9f72-79f30aac49a3"
      },
      "outputs": [],
      "source": [
        "# import the os, shutil, and glob modules\n",
        "import os\n",
        "import shutil\n",
        "import glob"
      ]
    },
    {
      "cell_type": "markdown",
      "source": [
        "## Mounting Google Drive"
      ],
      "metadata": {
        "id": "7APeIAN3_U-h"
      },
      "id": "7APeIAN3_U-h"
    },
    {
      "cell_type": "code",
      "source": [
        "from google.colab import drive\n",
        "drive.mount('/content/drive')"
      ],
      "metadata": {
        "colab": {
          "base_uri": "https://localhost:8080/"
        },
        "id": "ScDMragK_R8P",
        "outputId": "bff2d1db-7ce5-4570-f1fb-e848d2f63904"
      },
      "id": "ScDMragK_R8P",
      "execution_count": null,
      "outputs": [
        {
          "output_type": "stream",
          "name": "stdout",
          "text": [
            "Mounted at /content/drive\n"
          ]
        }
      ]
    },
    {
      "cell_type": "code",
      "source": [
        "root_path = \"./drive/My Drive/CS_122\"\n",
        "(os.path.exists(root_path))"
      ],
      "metadata": {
        "colab": {
          "base_uri": "https://localhost:8080/"
        },
        "id": "S3Gem58e_t1m",
        "outputId": "25f3f5cf-d622-49da-f4cb-6b27e91a9778"
      },
      "id": "S3Gem58e_t1m",
      "execution_count": null,
      "outputs": [
        {
          "output_type": "execute_result",
          "data": {
            "text/plain": [
              "True"
            ]
          },
          "metadata": {},
          "execution_count": 3
        }
      ]
    },
    {
      "cell_type": "markdown",
      "id": "0d4b0f71",
      "metadata": {
        "id": "0d4b0f71"
      },
      "source": [
        "# Part 1: The `os` module and paths"
      ]
    },
    {
      "cell_type": "markdown",
      "id": "acf1e5a8",
      "metadata": {
        "id": "acf1e5a8"
      },
      "source": [
        "Python's built-in `os` module is a useful tool to acccess information about the file system. Many of the `os` functions mimic common shell scripting commands but return python objects that can be used in Python code. Let's take a look at few examples:"
      ]
    },
    {
      "cell_type": "markdown",
      "id": "fd301475-5482-4912-ab71-73746f9450db",
      "metadata": {
        "id": "fd301475-5482-4912-ab71-73746f9450db"
      },
      "source": [
        "### The Current Working Directory"
      ]
    },
    {
      "cell_type": "code",
      "execution_count": null,
      "id": "58d5c54f",
      "metadata": {
        "id": "58d5c54f",
        "outputId": "e2a193bf-8769-4bc1-a9a5-7c9e2136d50e",
        "colab": {
          "base_uri": "https://localhost:8080/"
        }
      },
      "outputs": [
        {
          "output_type": "stream",
          "name": "stdout",
          "text": [
            "/content\n"
          ]
        }
      ],
      "source": [
        "# check your current working directory\n",
        "print(os.getcwd())"
      ]
    },
    {
      "cell_type": "markdown",
      "id": "ae447a9f-8f9e-4752-8662-16ab3a9d1c00",
      "metadata": {
        "id": "ae447a9f-8f9e-4752-8662-16ab3a9d1c00"
      },
      "source": [
        "Questions:\n",
        "1. What kind of path is this (absolute or relative)?\n",
        "> Absolute\n",
        "\n",
        "\n",
        "2. What is the equivalent command in your terminal?\n",
        "> pwd"
      ]
    },
    {
      "cell_type": "markdown",
      "id": "0e695386-5f42-4efe-af1f-6e5c90afc603",
      "metadata": {
        "id": "0e695386-5f42-4efe-af1f-6e5c90afc603"
      },
      "source": [
        "### Contents of the Current Working Directory"
      ]
    },
    {
      "cell_type": "code",
      "execution_count": null,
      "id": "e723ec62-082e-4110-85e7-4a3df89fe162",
      "metadata": {
        "id": "e723ec62-082e-4110-85e7-4a3df89fe162",
        "outputId": "d0345eec-1d12-4a3c-c9bd-5c77b742abf4",
        "colab": {
          "base_uri": "https://localhost:8080/"
        }
      },
      "outputs": [
        {
          "output_type": "stream",
          "name": "stdout",
          "text": [
            "['.config', 'drive', 'sample_data']\n",
            "['CS_122_Class', '.ipynb_checkpoints', 'CS122_HW_1.ipynb', 'Copy of  7_FileSystem.ipynb']\n"
          ]
        }
      ],
      "source": [
        "# check the contents of your current working directory\n",
        "print(os.listdir())\n",
        "\n",
        "# check the contents in root path\n",
        "print(os.listdir(root_path))"
      ]
    },
    {
      "cell_type": "markdown",
      "id": "70ec2990-874e-4758-8aeb-dffa6b30844a",
      "metadata": {
        "id": "70ec2990-874e-4758-8aeb-dffa6b30844a"
      },
      "source": [
        "### Paths on your machine\n",
        "Paths on your machine provide the address where certain data is stored. For example, the above list, we find that there is a directory called `CS_122_Class` in our present working directory. If we would like to provide a path in this folder, we just need to append `CS_122_Class` to our current path. However, different operating systems use different formats for the string representation of paths. The `os` module gives us a convenient way to write platform-independent paths."
      ]
    },
    {
      "cell_type": "code",
      "execution_count": null,
      "id": "cee5335f-d08d-4089-b745-9c7c6deb0ff9",
      "metadata": {
        "id": "cee5335f-d08d-4089-b745-9c7c6deb0ff9",
        "outputId": "f6cb1ddf-fed0-4b2f-93ec-52c68f260f20",
        "colab": {
          "base_uri": "https://localhost:8080/"
        }
      },
      "outputs": [
        {
          "output_type": "stream",
          "name": "stdout",
          "text": [
            "./drive/My Drive/CS_122/CS_122_Class\n",
            "4\n"
          ]
        }
      ],
      "source": [
        "# create an absolute path to the data folder\n",
        "class_folder = os.path.join(root_path, 'CS_122_Class')\n",
        "\n",
        "# print out the data folder path\n",
        "print(class_folder)\n",
        "\n",
        "# print the number of files in the data folder\n",
        "print(len(os.listdir(class_folder)))"
      ]
    },
    {
      "cell_type": "markdown",
      "id": "a0e14d68",
      "metadata": {
        "id": "a0e14d68"
      },
      "source": [
        "### &#x1F914; Mini-Exercise\n",
        "Goal: Get a list of all Jupyter Notebooks we've written in CS 122 so far using the `os` module."
      ]
    },
    {
      "cell_type": "code",
      "execution_count": null,
      "id": "c45e6c44",
      "metadata": {
        "id": "c45e6c44",
        "outputId": "0b1e1b6a-7609-4bd3-a04a-da85218845f6",
        "colab": {
          "base_uri": "https://localhost:8080/"
        }
      },
      "outputs": [
        {
          "output_type": "stream",
          "name": "stdout",
          "text": [
            "1_a_Python_Basics.ipynb\n",
            "2_Data_Types.ipynb\n",
            "1_b_Strings.ipynb\n",
            "3_Dictionaries.ipynb\n",
            "4_Control_Flow.ipynb\n",
            "5_Functions.ipynb\n",
            "6_Modules.ipynb\n",
            "7_FileSystem.ipynb\n"
          ]
        }
      ],
      "source": [
        "notebooks = []\n",
        "for file_name in os.listdir(os.path.join(class_folder, 'Lectures')):\n",
        "    if file_name[-6:]=='.ipynb':\n",
        "        notebooks.append(file_name)\n",
        "\n",
        "for notebook in notebooks:\n",
        "    print(notebook)"
      ]
    },
    {
      "cell_type": "markdown",
      "id": "17c033b8-2e22-4fb9-b6e7-6de2029aea18",
      "metadata": {
        "id": "17c033b8-2e22-4fb9-b6e7-6de2029aea18"
      },
      "source": [
        "### Making new directories\n",
        "The `os` module gives us the functionality to modify our file system. For example, we can make a new directory given an absolute (or relative) path."
      ]
    },
    {
      "cell_type": "code",
      "execution_count": null,
      "id": "64b06b54-9217-440c-88f7-fc69e9a1851b",
      "metadata": {
        "id": "64b06b54-9217-440c-88f7-fc69e9a1851b"
      },
      "outputs": [],
      "source": [
        "# define a path for a new organized_data directory\n",
        "organized_data = os.path.join(root_path, 'organized_data')\n",
        "\n",
        "# make a new directory called organized_data in the present working directory and check if the data exists - only make it if it does not exist\n",
        "if not os.path.exists(organized_data):\n",
        "    os.mkdir(organized_data)"
      ]
    },
    {
      "cell_type": "markdown",
      "id": "ae0d5097-df00-4688-a8ad-e361a8e60f45",
      "metadata": {
        "id": "ae0d5097-df00-4688-a8ad-e361a8e60f45"
      },
      "source": [
        "Question: What is the equivalent command in the terminal?\n",
        "> mkdir"
      ]
    },
    {
      "cell_type": "code",
      "source": [
        "# Initialize and check data folder\n",
        "data_folder = os.path.join(class_folder, 'data')\n",
        "\n",
        "print(os.path.exists(data_folder))"
      ],
      "metadata": {
        "colab": {
          "base_uri": "https://localhost:8080/"
        },
        "id": "S_q_cf96HGjG",
        "outputId": "1b0345df-77d7-41dc-a232-f14245f46bed"
      },
      "id": "S_q_cf96HGjG",
      "execution_count": null,
      "outputs": [
        {
          "output_type": "stream",
          "name": "stdout",
          "text": [
            "True\n"
          ]
        }
      ]
    },
    {
      "cell_type": "markdown",
      "id": "600fe472-e0ae-402c-89a7-9391553192de",
      "metadata": {
        "id": "600fe472-e0ae-402c-89a7-9391553192de"
      },
      "source": [
        "# Part 2: The `shutil` module\n",
        "The `shutil` mode provides the utility to make copies of files on your file system. There are three main functions used for copying files, as follows:\n",
        "\n",
        "|  | copyfile | copy | copy2 |\n",
        "| -- | -------- | ---- | ----- |\n",
        "| Destination can be a directory | N | Y | Y |\n",
        "| Copies permissions | N | Y | Y |\n",
        "| Copies metadata | N | N | Y |"
      ]
    },
    {
      "cell_type": "code",
      "execution_count": null,
      "id": "4628fe08-92ea-41a5-ae14-b188ff751081",
      "metadata": {
        "id": "4628fe08-92ea-41a5-ae14-b188ff751081",
        "outputId": "6762b087-b246-42a9-8c5b-91a58eff949e",
        "colab": {
          "base_uri": "https://localhost:8080/"
        }
      },
      "outputs": [
        {
          "output_type": "stream",
          "name": "stdout",
          "text": [
            "./drive/My Drive/CS_122/organized_data/2023_0101.txt\n",
            "./drive/My Drive/CS_122/organized_data/2023_0101.txt\n",
            "./drive/My Drive/CS_122/organized_data/2023_0101.txt\n"
          ]
        }
      ],
      "source": [
        "# define a path to the source data file 2023_0101.txt in data\n",
        "src_path = os.path.join(data_folder, '2023_0101.txt')\n",
        "\n",
        "# define a destination path to the current directory with the file name\n",
        "dst_path = os.path.join(organized_data,'2023_0101.txt')\n",
        "\n",
        "# try the copyfile method with the dst path\n",
        "print(shutil.copyfile(src_path, dst_path))\n",
        "\n",
        "# try the copy method with the dst_path or organized_data path\n",
        "print(shutil.copy(src_path, organized_data))\n",
        "\n",
        "# try the copy2 method with the dst path or organized_data path\n",
        "print(shutil.copy2(src_path, organized_data))"
      ]
    },
    {
      "cell_type": "code",
      "source": [
        "os.path.exists('./drive/My Drive/CS_122/organized_data/2023_0101.txt')"
      ],
      "metadata": {
        "colab": {
          "base_uri": "https://localhost:8080/"
        },
        "id": "qUgPy4uaLtA7",
        "outputId": "bed95c08-a99e-4564-adb8-4926b2f337d1"
      },
      "id": "qUgPy4uaLtA7",
      "execution_count": null,
      "outputs": [
        {
          "output_type": "execute_result",
          "data": {
            "text/plain": [
              "True"
            ]
          },
          "metadata": {},
          "execution_count": 12
        }
      ]
    },
    {
      "cell_type": "markdown",
      "id": "d9d5eb2d",
      "metadata": {
        "id": "d9d5eb2d"
      },
      "source": [
        "### &#x1F914; Mini-Exercise\n",
        "\n",
        "Given code creates monthly directories in the organized_data folder.\n",
        "\n",
        "Modify the code below to make copies of the 2023 data in monthly directories in the `organized_data` directory"
      ]
    },
    {
      "cell_type": "code",
      "execution_count": null,
      "id": "3622d726-217d-4653-b24f-60752f455aef",
      "metadata": {
        "id": "3622d726-217d-4653-b24f-60752f455aef"
      },
      "outputs": [],
      "source": [
        "# make a new folder in the organized_data folder for each month in 2022\n",
        "for file_name in os.listdir(data_folder):\n",
        "\n",
        "    # check that the file is from 2023\n",
        "    if file_name[:4]=='2023':\n",
        "\n",
        "        # define the name of a new folder in the format YYYY_MM\n",
        "        year_month = file_name[:7]\n",
        "\n",
        "        # if this year_month is not yet in the organized_data directory, then make it\n",
        "        if year_month not in os.listdir(organized_data):\n",
        "            os.mkdir(os.path.join(organized_data, year_month))\n",
        "\n",
        "        # make a copy of the file in the year_month folder\n",
        "        # define the src_path and the dest_path\n",
        "        # then, copy the file using one of the shutil functions\n",
        "\n",
        "        src_path = os.path.join(data_folder, file_name)\n",
        "        dest_path = os.path.join(organized_data, year_month, file_name)\n",
        "        # Make a copy here\n",
        "        print(shutil.copyfile(src_path, dest_path))"
      ]
    },
    {
      "cell_type": "markdown",
      "id": "0c4a5b92",
      "metadata": {
        "id": "0c4a5b92"
      },
      "source": [
        "## Overview: Python Commands vs Unix Shell Commands\n",
        "\n",
        "| Python | Unix | Purpose |\n",
        "| ------ | ---- | ------- |\n",
        "| os.getcwd() | pwd | Determine the current/present working directory |\n",
        "| os.chdir() | cd | Change directory |\n",
        "| os.mkdir() | mkdir | Make a directory |\n",
        "| os.rename() | mv | Rename a file or move to a new location |\n",
        "| os.listdir() | ls | List the files and folders in a directory |\n",
        "| shutil.copy() | cp | Copy a file to a new location |"
      ]
    },
    {
      "cell_type": "markdown",
      "id": "9137110a-0918-45dd-8609-bda44856ff7b",
      "metadata": {
        "id": "9137110a-0918-45dd-8609-bda44856ff7b"
      },
      "source": [
        "# Part 3: The `glob` module\n",
        "When using Unix-type shell commands, wildcard symbols are extremely useful for finding and accessing subsets of files. There are 2 main wildcard symbols:\n",
        "\n",
        "| symbol | use |\n",
        "| ------ | --- |\n",
        "| `?`    | Wildcard for a single symbol |\n",
        "| `*`    | Wildcard symbol for any number of symbols |\n",
        "\n",
        "Try these in the `data` directory in your shelf:\n",
        "1. How would you determine the names of files that correspond to the first day of each month in 2023?\n",
        "2. How would you determine the name of all files that correspond to December of 2023?\n",
        "\n",
        "The `glob` module provides functionality to provide Unix-style searches of your file system."
      ]
    },
    {
      "cell_type": "code",
      "execution_count": null,
      "id": "e7343af5-6a81-485e-a5b8-454445ec7ac2",
      "metadata": {
        "id": "e7343af5-6a81-485e-a5b8-454445ec7ac2",
        "outputId": "3c7e2c1f-e6c6-4617-903c-6060b3d5e2cc",
        "colab": {
          "base_uri": "https://localhost:8080/"
        }
      },
      "outputs": [
        {
          "output_type": "execute_result",
          "data": {
            "text/plain": [
              "['./drive/My Drive/CS_122/CS_122_Class/data/2023_0501.txt',\n",
              " './drive/My Drive/CS_122/CS_122_Class/data/2023_0701.txt',\n",
              " './drive/My Drive/CS_122/CS_122_Class/data/2023_0301.txt',\n",
              " './drive/My Drive/CS_122/CS_122_Class/data/2023_0101.txt',\n",
              " './drive/My Drive/CS_122/CS_122_Class/data/2023_0401.txt',\n",
              " './drive/My Drive/CS_122/CS_122_Class/data/2023_0201.txt',\n",
              " './drive/My Drive/CS_122/CS_122_Class/data/2023_1101.txt',\n",
              " './drive/My Drive/CS_122/CS_122_Class/data/2023_0801.txt',\n",
              " './drive/My Drive/CS_122/CS_122_Class/data/2023_1201.txt',\n",
              " './drive/My Drive/CS_122/CS_122_Class/data/2023_1001.txt',\n",
              " './drive/My Drive/CS_122/CS_122_Class/data/2023_0901.txt',\n",
              " './drive/My Drive/CS_122/CS_122_Class/data/2023_0601.txt']"
            ]
          },
          "metadata": {},
          "execution_count": 14
        }
      ],
      "source": [
        "# find all files names that correspond to the first day of each month in 2023\n",
        "search_path = os.path.join(data_folder,'2023_??01.txt')\n",
        "glob.glob(search_path)"
      ]
    },
    {
      "cell_type": "code",
      "source": [
        "# find all files in December 2023\n",
        "search_path = os.path.join(data_folder,'2023_12*.txt')\n",
        "glob.glob(search_path)"
      ],
      "metadata": {
        "colab": {
          "base_uri": "https://localhost:8080/"
        },
        "id": "_t3_OmRTOB8b",
        "outputId": "b68da1ca-780f-4a1a-cedb-05e740db9848"
      },
      "id": "_t3_OmRTOB8b",
      "execution_count": null,
      "outputs": [
        {
          "output_type": "execute_result",
          "data": {
            "text/plain": [
              "['./drive/My Drive/CS_122/CS_122_Class/data/2023_1227.txt',\n",
              " './drive/My Drive/CS_122/CS_122_Class/data/2023_1226.txt',\n",
              " './drive/My Drive/CS_122/CS_122_Class/data/2023_1218.txt',\n",
              " './drive/My Drive/CS_122/CS_122_Class/data/2023_1224.txt',\n",
              " './drive/My Drive/CS_122/CS_122_Class/data/2023_1230.txt',\n",
              " './drive/My Drive/CS_122/CS_122_Class/data/2023_1231.txt',\n",
              " './drive/My Drive/CS_122/CS_122_Class/data/2023_1225.txt',\n",
              " './drive/My Drive/CS_122/CS_122_Class/data/2023_1219.txt',\n",
              " './drive/My Drive/CS_122/CS_122_Class/data/2023_1221.txt',\n",
              " './drive/My Drive/CS_122/CS_122_Class/data/2023_1209.txt',\n",
              " './drive/My Drive/CS_122/CS_122_Class/data/2023_1208.txt',\n",
              " './drive/My Drive/CS_122/CS_122_Class/data/2023_1220.txt',\n",
              " './drive/My Drive/CS_122/CS_122_Class/data/2023_1222.txt',\n",
              " './drive/My Drive/CS_122/CS_122_Class/data/2023_1223.txt',\n",
              " './drive/My Drive/CS_122/CS_122_Class/data/2023_1212.txt',\n",
              " './drive/My Drive/CS_122/CS_122_Class/data/2023_1206.txt',\n",
              " './drive/My Drive/CS_122/CS_122_Class/data/2023_1207.txt',\n",
              " './drive/My Drive/CS_122/CS_122_Class/data/2023_1213.txt',\n",
              " './drive/My Drive/CS_122/CS_122_Class/data/2023_1205.txt',\n",
              " './drive/My Drive/CS_122/CS_122_Class/data/2023_1211.txt',\n",
              " './drive/My Drive/CS_122/CS_122_Class/data/2023_1210.txt',\n",
              " './drive/My Drive/CS_122/CS_122_Class/data/2023_1204.txt',\n",
              " './drive/My Drive/CS_122/CS_122_Class/data/2023_1214.txt',\n",
              " './drive/My Drive/CS_122/CS_122_Class/data/2023_1228.txt',\n",
              " './drive/My Drive/CS_122/CS_122_Class/data/2023_1229.txt',\n",
              " './drive/My Drive/CS_122/CS_122_Class/data/2023_1215.txt',\n",
              " './drive/My Drive/CS_122/CS_122_Class/data/2023_1201.txt',\n",
              " './drive/My Drive/CS_122/CS_122_Class/data/2023_1217.txt',\n",
              " './drive/My Drive/CS_122/CS_122_Class/data/2023_1203.txt',\n",
              " './drive/My Drive/CS_122/CS_122_Class/data/2023_1202.txt',\n",
              " './drive/My Drive/CS_122/CS_122_Class/data/2023_1216.txt']"
            ]
          },
          "metadata": {},
          "execution_count": 15
        }
      ]
    }
  ],
  "metadata": {
    "kernelspec": {
      "display_name": "Python 3 (ipykernel)",
      "language": "python",
      "name": "python3"
    },
    "language_info": {
      "codemirror_mode": {
        "name": "ipython",
        "version": 3
      },
      "file_extension": ".py",
      "mimetype": "text/x-python",
      "name": "python",
      "nbconvert_exporter": "python",
      "pygments_lexer": "ipython3",
      "version": "3.10.12"
    },
    "colab": {
      "provenance": []
    }
  },
  "nbformat": 4,
  "nbformat_minor": 5
}