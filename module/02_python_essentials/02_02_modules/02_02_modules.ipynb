{
  "cells": [
    {
      "cell_type": "markdown",
      "id": "49e61e1c",
      "metadata": {
        "id": "49e61e1c"
      },
      "source": [
        "# CS 122 Lecture 6: Modules and Programs"
      ]
    },
    {
      "cell_type": "markdown",
      "id": "0c3a7daa-0a0a-481c-974f-6acd970606db",
      "metadata": {
        "id": "0c3a7daa-0a0a-481c-974f-6acd970606db"
      },
      "source": [
        "Learning Objectives:\n",
        "By the end of this lesson, you should be able to:\n",
        "1. Import common built-in Python modules\n",
        "2. Write your own module with functions designed for a particular task\n",
        "3. Import custom modules into a Jupyter Notebook"
      ]
    },
    {
      "cell_type": "markdown",
      "id": "0d4b0f71",
      "metadata": {
        "id": "0d4b0f71"
      },
      "source": [
        "# Part 1: Common Built-In Python Modules"
      ]
    },
    {
      "cell_type": "markdown",
      "id": "acf1e5a8",
      "metadata": {
        "id": "acf1e5a8"
      },
      "source": [
        "Python has many built-in modules that can be utilized in any program - no installation necessary!\n",
        "\n",
        "To import a built-in module, use the the `import` statement at the top of your script (or Jupyter notebook)"
      ]
    },
    {
      "cell_type": "markdown",
      "id": "476a2589-3af4-429d-840e-e38752604ac6",
      "metadata": {
        "id": "476a2589-3af4-429d-840e-e38752604ac6"
      },
      "source": [
        "### The `time` module\n",
        "The time module provides the functionality to access your machine's timing. For example, it is often used to keep track of how long a particular piece of code takes to run."
      ]
    },
    {
      "cell_type": "code",
      "execution_count": null,
      "id": "58d5c54f",
      "metadata": {
        "colab": {
          "base_uri": "https://localhost:8080/"
        },
        "id": "58d5c54f",
        "outputId": "d1abf86c-445a-42b3-fa11-3d6e48500157"
      },
      "outputs": [
        {
          "name": "stdout",
          "output_type": "stream",
          "text": [
            "Elapsed time: 0.0044095516204833984 seconds\n"
          ]
        }
      ],
      "source": [
        "# import the time module\n",
        "import time\n",
        "\n",
        "# use the time module to see how long it takes to count the numbers between 1 and N\n",
        "# start be defining N\n",
        "N = 10000\n",
        "\n",
        "# store the time at the beginning of the function using the time module\n",
        "start = time.time()\n",
        "\n",
        "# run the counting loop\n",
        "sum = 0\n",
        "for i in range(N):\n",
        "    sum += i\n",
        "\n",
        "# store the time at the end of the function using the time module\n",
        "end = time.time()\n",
        "\n",
        "# print the elapsed time\n",
        "print('Elapsed time: '+str(end - start)+' seconds')"
      ]
    },
    {
      "cell_type": "markdown",
      "id": "38e1b533-8e2c-478e-8c54-376b53baf333",
      "metadata": {
        "id": "38e1b533-8e2c-478e-8c54-376b53baf333"
      },
      "source": [
        "### The `datetime` module\n",
        "\n",
        "The `datetime` module provides functionality to track calendar dates and differences therein."
      ]
    },
    {
      "cell_type": "code",
      "execution_count": null,
      "id": "949ea389-c917-4559-9bf1-df5cf1e3ac0c",
      "metadata": {
        "colab": {
          "base_uri": "https://localhost:8080/"
        },
        "id": "949ea389-c917-4559-9bf1-df5cf1e3ac0c",
        "outputId": "15615d06-6b9f-409a-9546-84dfb32e0ff5"
      },
      "outputs": [
        {
          "name": "stdout",
          "output_type": "stream",
          "text": [
            "1267 days, 0:00:00\n"
          ]
        }
      ],
      "source": [
        "# import the datetime module\n",
        "import datetime\n",
        "\n",
        "# determine how long its been since you started your first class at SJSU\n",
        "# define a datimetime object for your first semester\n",
        "start_date = datetime.date(2020,8,26)\n",
        "\n",
        "# define a datetime object for today\n",
        "todays_date = datetime.date.today()\n",
        "\n",
        "# find the time since you started at SJSU\n",
        "difference = todays_date - start_date\n",
        "\n",
        "# print the number of days\n",
        "print(difference)"
      ]
    },
    {
      "cell_type": "markdown",
      "id": "80e84f24-a292-4dfe-802d-ab8c18afe236",
      "metadata": {
        "id": "80e84f24-a292-4dfe-802d-ab8c18afe236"
      },
      "source": [
        "### The `math` and `cmath` modules\n",
        "The `math` module provides functions to calculate standard mathematical functions. For example, the it can be used to calculate exponentials and trignometric functions:"
      ]
    },
    {
      "cell_type": "code",
      "execution_count": null,
      "id": "0ede7951-10be-4ca8-aa4f-c7b4ba2838cb",
      "metadata": {
        "colab": {
          "base_uri": "https://localhost:8080/"
        },
        "id": "0ede7951-10be-4ca8-aa4f-c7b4ba2838cb",
        "outputId": "639308d5-a9f6-4a8f-f552-870d9bfa56f6"
      },
      "outputs": [
        {
          "name": "stdout",
          "output_type": "stream",
          "text": [
            "0.7071067811865475\n",
            "2.1932800507380152\n",
            "-0.2415644752704905\n"
          ]
        }
      ],
      "source": [
        "# import the math module\n",
        "import math\n",
        "\n",
        "# calculate the sine of pi/4\n",
        "print(math.sin(math.pi/4))\n",
        "\n",
        "# calculate the expnential of pi/4\n",
        "print(math.exp(math.pi/4))\n",
        "\n",
        "# calculate the natural logarithm of 3\n",
        "print(math.log(math.pi/4))"
      ]
    },
    {
      "cell_type": "markdown",
      "id": "47a6eccd-9f2e-4e6e-88df-658de64a713c",
      "metadata": {
        "id": "47a6eccd-9f2e-4e6e-88df-658de64a713c"
      },
      "source": [
        "The `cmath` functions can be used to calculate complex-values functions. To define a complex number, use the `complex` [build-in function](https://www.w3schools.com/python/python_ref_functions.asp) as follows:\n",
        "```\n",
        "z = complex(<real part>,<complex part>)\n",
        "```\n",
        "In other words,\n",
        "$$ z = x + iy $$\n",
        "\n",
        "Try it for yourself: Test out one of the coolest identities in all of math:\n",
        "$$ e^{-ix} = cos(x) + isin(x)$$"
      ]
    },
    {
      "cell_type": "code",
      "execution_count": null,
      "id": "714afb87-3d63-42c4-ae8a-d96835350b26",
      "metadata": {
        "colab": {
          "base_uri": "https://localhost:8080/"
        },
        "id": "714afb87-3d63-42c4-ae8a-d96835350b26",
        "outputId": "22c29e65-737f-48c1-afe3-76c2fb40f800"
      },
      "outputs": [
        {
          "name": "stdout",
          "output_type": "stream",
          "text": [
            "(0.7071067811865476+0.7071067811865475j)\n",
            "(0.7071067811865476+0.7071067811865475j)\n"
          ]
        }
      ],
      "source": [
        "# import the complex math module\n",
        "import cmath\n",
        "\n",
        "## define a value for x at pi/4\n",
        "x = math.pi /4\n",
        "i = complex(0,1)\n",
        "\n",
        "## compute the left-hand side of the equation\n",
        "LHS = cmath.exp(i*x)\n",
        "\n",
        "## compute the right-hand side of the equation\n",
        "RHS = cmath.cos(x) + i*cmath.sin(x)\n",
        "\n",
        "# check whether the two numbers are equivalent\n",
        "print(LHS)\n",
        "print(RHS)"
      ]
    },
    {
      "cell_type": "markdown",
      "id": "0fe74102-fd63-40be-a3bc-3c9853c7bfff",
      "metadata": {
        "id": "0fe74102-fd63-40be-a3bc-3c9853c7bfff"
      },
      "source": [
        "### The `random` module\n",
        "The `random` module provides functionality to generate random numbers"
      ]
    },
    {
      "cell_type": "code",
      "execution_count": null,
      "id": "eca49aa4-cf4b-441e-9740-bd7b8398beaf",
      "metadata": {
        "colab": {
          "base_uri": "https://localhost:8080/"
        },
        "id": "eca49aa4-cf4b-441e-9740-bd7b8398beaf",
        "outputId": "145553f9-baad-4f91-ba99-fee27846d27b"
      },
      "outputs": [
        {
          "name": "stdout",
          "output_type": "stream",
          "text": [
            "8\n",
            "8.444164985125129\n",
            "-0.9858310829475969\n"
          ]
        }
      ],
      "source": [
        "# import the random module\n",
        "import random as rn\n",
        "\n",
        "# create a random integer between 1 and 10\n",
        "print(rn.randint(1,10))\n",
        "\n",
        "# create a random float between 1 and 10\n",
        "print(rn.uniform(1,10))\n",
        "\n",
        "# sample the gaussian distribution\n",
        "# the default values for the mean (mu) and the stardard deviation (sigma) are 0 and 1\n",
        "print(rn.gauss(mu=0, sigma=1))"
      ]
    },
    {
      "cell_type": "markdown",
      "id": "1f2be37d-6825-40d7-9e5d-c63eae683aa6",
      "metadata": {
        "id": "1f2be37d-6825-40d7-9e5d-c63eae683aa6"
      },
      "source": [
        "### List of all built-in modules\n",
        "A list of all built-in modules can be accessed in the Python documentation at https://docs.python.org/3/py-modindex.html"
      ]
    },
    {
      "cell_type": "markdown",
      "id": "a0e14d68",
      "metadata": {
        "id": "a0e14d68"
      },
      "source": [
        "**Example:** Create an approximation to the sine function using polynomials. Calculate the root mean square error of the calculation for 100 random (float) values between -2 and 2.\n",
        "\n",
        "The sine of a number can be estimated with the first four terms of its Taylor expansion as:\n",
        "$$ sin(x) \\approx x - \\frac{x^3}{6} + \\frac{x^5}{120} - \\frac{x^7}{5040} $$\n",
        "\n",
        "The root mean square error (RMSE) is calculated as\n",
        "$$ RMSE = \\sqrt{\\frac{1}{N} \\sum_{i=1}^{N} (e_i - t_i)^2} $$\n",
        "where $N$ is the number of points, $e_i$ is the $i$th estimated value, and $t_i$ is the $i$th true value."
      ]
    },
    {
      "cell_type": "code",
      "execution_count": null,
      "id": "80694920-030e-4247-82a9-bd77bb0a8c5c",
      "metadata": {
        "colab": {
          "base_uri": "https://localhost:8080/"
        },
        "id": "80694920-030e-4247-82a9-bd77bb0a8c5c",
        "outputId": "31abb018-8743-4e06-e2e5-71a60253d48c"
      },
      "outputs": [
        {
          "name": "stdout",
          "output_type": "stream",
          "text": [
            "0.00026386440820242384\n"
          ]
        }
      ],
      "source": [
        "# import the math and random modules\n",
        "import math\n",
        "import random\n",
        "\n",
        "# define your approximate to sin in a function called sine_poly\n",
        "def sine_poly(x):\n",
        "    value = x - x**3/6 + x**5/120 - x**7/5040\n",
        "    return value\n",
        "\n",
        "# write a loop to calculate the root mean square error for 100 values\n",
        "sum_of_squares = 0\n",
        "N = 100\n",
        "for i in range(N):\n",
        "    x = random.uniform(-2,2)\n",
        "    t_i = math.sin(x)\n",
        "    e_i = sine_poly(x)\n",
        "    sum_of_squares += (t_i - e_i)**2\n",
        "RMSE = math.sqrt(sum_of_squares/N)\n",
        "\n",
        "# print the RMSE value\n",
        "print(RMSE)"
      ]
    },
    {
      "cell_type": "markdown",
      "id": "600fe472-e0ae-402c-89a7-9391553192de",
      "metadata": {
        "id": "600fe472-e0ae-402c-89a7-9391553192de"
      },
      "source": [
        "# Part 2: Generating a custom module\n",
        "Python has a lot of very useful modules that are built-in with its standard distribution. However, as you begin to develop code and work on your own projects, you will want to start generating modules that can be used for your particular purpose.\n",
        "\n",
        "For this example, we will shift over to the IDE for this lesson - Recommended: [PyCharm (Community Edition)](https://www.jetbrains.com/pycharm/) IDE or the [Visual Studio Code](https://code.visualstudio.com/download) IDE."
      ]
    },
    {
      "cell_type": "markdown",
      "id": "4508dac0-b983-4246-b228-fddfc75e99a0",
      "metadata": {
        "id": "4508dac0-b983-4246-b228-fddfc75e99a0"
      },
      "source": [
        "To import a custom module into a Jupyter notebook, use the same syntax as above - use the import statment. The module name is given by the file name (without the py extension). For example, we can import the `test_module` module we created below:"
      ]
    },
    {
      "cell_type": "code",
      "execution_count": null,
      "id": "d241c132-eb2e-4a7c-8ee9-0b2a9c89128b",
      "metadata": {
        "id": "d241c132-eb2e-4a7c-8ee9-0b2a9c89128b",
        "outputId": "573ea8cc-c58b-4fb3-e8e7-59e3c73c2c21"
      },
      "outputs": [
        {
          "data": {
            "text/plain": [
              "'Shah'"
            ]
          },
          "execution_count": 1,
          "metadata": {},
          "output_type": "execute_result"
        }
      ],
      "source": [
        "## Run the below code locally by creating file test.py and running it as 'python test.py' in terminal (Try python3 if python does not work)\n",
        "\n",
        "# import the test module\n",
        "import test_module_L6 as tm\n",
        "\n",
        "# call the function from the test module\n",
        "tm.first_name()\n",
        "tm.last_name()\n",
        "\n",
        "# tm.middle_name()"
      ]
    },
    {
      "cell_type": "markdown",
      "id": "5f6b598e-2133-489e-80e5-0a705256fd91",
      "metadata": {
        "id": "5f6b598e-2133-489e-80e5-0a705256fd91"
      },
      "source": [
        "### &#x1F914; Mini-Exercise\n",
        "Edit the `test_module`, creating a new function for `middle_name()`"
      ]
    },
    {
      "cell_type": "markdown",
      "id": "5a57cdf2-39b7-4981-9912-73a3ae9ea270",
      "metadata": {
        "id": "5a57cdf2-39b7-4981-9912-73a3ae9ea270"
      },
      "source": [
        "## &#x2757; Caution! Module changes and Jupyter Notebook\n",
        "When you change a module outside of a Jupyter Notebook, you may need to **restart your kernel** for the changes to be reflected in the notebook."
      ]
    }
  ],
  "metadata": {
    "colab": {
      "provenance": []
    },
    "kernelspec": {
      "display_name": "Python 3 (ipykernel)",
      "language": "python",
      "name": "python3"
    },
    "language_info": {
      "codemirror_mode": {
        "name": "ipython",
        "version": 3
      },
      "file_extension": ".py",
      "mimetype": "text/x-python",
      "name": "python",
      "nbconvert_exporter": "python",
      "pygments_lexer": "ipython3",
      "version": "3.9.7"
    }
  },
  "nbformat": 4,
  "nbformat_minor": 5
}