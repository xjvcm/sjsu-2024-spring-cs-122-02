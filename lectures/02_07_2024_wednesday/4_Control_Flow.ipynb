{
 "cells": [
  {
   "cell_type": "markdown",
   "id": "49e61e1c",
   "metadata": {
    "id": "49e61e1c"
   },
   "source": [
    "# CS 122 Lecture 4: Control Flow"
   ]
  },
  {
   "cell_type": "markdown",
   "id": "0c3a7daa-0a0a-481c-974f-6acd970606db",
   "metadata": {
    "id": "0c3a7daa-0a0a-481c-974f-6acd970606db"
   },
   "source": [
    "Learning Objectives:\n",
    "By the end of this lesson, you should be able to:\n",
    "1. Write `if-elif-else` statements to control decisions within a code block\n",
    "2. Utilize a `for` loop to iterate through a series of objects\n",
    "3. Implement a `while` loop to continue excuting code as long as a condition is met"
   ]
  },
  {
   "cell_type": "markdown",
   "id": "0d4b0f71",
   "metadata": {
    "id": "0d4b0f71"
   },
   "source": [
    "# Part 1: if-elif-else statements"
   ]
  },
  {
   "cell_type": "code",
   "outputs": [],
   "source": [
    "import math"
   ],
   "metadata": {
    "collapsed": false,
    "ExecuteTime": {
     "end_time": "2024-02-07T20:47:21.197702600Z",
     "start_time": "2024-02-07T20:47:21.178705500Z"
    }
   },
   "id": "eee5253f38baa6f4",
   "execution_count": 8
  },
  {
   "cell_type": "markdown",
   "id": "acf1e5a8",
   "metadata": {
    "id": "acf1e5a8"
   },
   "source": [
    "An `if` statement is a handy piece of code to control whether a given piece of code is going to run. The `if` keyword is followed by a condition that can be interpreted to be True or False, followed by a colon. Below the if statement, all lines to be run when the condition is true are indented using 4 spaces. To end the code block, the indendation is decreased"
   ]
  },
  {
   "cell_type": "code",
   "execution_count": 9,
   "id": "58d5c54f",
   "metadata": {
    "id": "58d5c54f",
    "ExecuteTime": {
     "end_time": "2024-02-07T20:47:21.639133500Z",
     "start_time": "2024-02-07T20:47:21.622137400Z"
    }
   },
   "outputs": [],
   "source": [
    "# write an if statement that will print a statement when a condition is true\n",
    "hour = 16\n",
    "if hour < 15:\n",
    "    print('Deep is drinking coffee.')"
   ]
  },
  {
   "cell_type": "markdown",
   "id": "d3d65062",
   "metadata": {
    "id": "d3d65062"
   },
   "source": [
    "Often, we'd like to provide an alternative piece of code if our condition is not met -- this is accomplished with an `else` statement. The `else` keyword is followed by a colon and, similar to the `if` block, the code to be run is indented by 4 spaces."
   ]
  },
  {
   "cell_type": "code",
   "execution_count": 10,
   "id": "dc226d26",
   "metadata": {
    "colab": {
     "base_uri": "https://localhost:8080/"
    },
    "id": "dc226d26",
    "outputId": "154b5ea8-9253-4954-9bf0-b5f72be4a990",
    "ExecuteTime": {
     "end_time": "2024-02-07T20:47:22.141303Z",
     "start_time": "2024-02-07T20:47:22.121301400Z"
    }
   },
   "outputs": [
    {
     "name": "stdout",
     "output_type": "stream",
     "text": [
      "Deep is drinking tea.\n"
     ]
    }
   ],
   "source": [
    "# write an if statement that will print a statement when a condition is true\n",
    "# provide an else statement that will run when a statement is false\n",
    "hour = 11\n",
    "if hour < 10:\n",
    "    print('Deep is drinking coffee.')\n",
    "\n",
    "elif hour < 15:\n",
    "    print('Deep is drinking tea.')\n",
    "\n",
    "else:\n",
    "    print('Deep is drinking water.')"
   ]
  },
  {
   "cell_type": "markdown",
   "id": "a0e14d68",
   "metadata": {
    "id": "a0e14d68"
   },
   "source": [
    "### &#x1F914; Mini-Exercise\n",
    "Goal: Write a code block that will provide the name of the day of the week when provided with a number 1-7. For example, when `week_day = 1`, the block should return `Monday`, `week_day = 5`, the block should return `Friday`, etc. If the number is not in the range 1-7, print a statement that indicates the number is invalid."
   ]
  },
  {
   "cell_type": "code",
   "execution_count": 11,
   "id": "0240e349-5f01-469b-a277-1f838f95081d",
   "metadata": {
    "id": "0240e349-5f01-469b-a277-1f838f95081d",
    "colab": {
     "base_uri": "https://localhost:8080/"
    },
    "outputId": "f357bfd2-929e-49bb-ace7-e93b79e40b03",
    "ExecuteTime": {
     "end_time": "2024-02-07T20:47:22.725415600Z",
     "start_time": "2024-02-07T20:47:22.691377300Z"
    }
   },
   "outputs": [
    {
     "name": "stdout",
     "output_type": "stream",
     "text": [
      "Tuesday\n"
     ]
    }
   ],
   "source": [
    "# define the week day number\n",
    "week_day = 2\n",
    "\n",
    "# write if, elif, and else statements to print the name of the day of the week\n",
    "if(week_day==1):\n",
    "  print('Monday')\n",
    "elif(week_day==2):\n",
    "  print('Tuesday')\n",
    "elif(week_day==3):\n",
    "  print('Wednesday')\n",
    "elif(week_day==4):\n",
    "  print('Thursday')\n",
    "elif(week_day==5):\n",
    "  print('Friday')\n",
    "elif(week_day==6):\n",
    "  print('Saturday')\n",
    "elif(week_day==7):\n",
    "  print('Sunday')\n",
    "else:\n",
    "  print('Invalid Number')"
   ]
  },
  {
   "cell_type": "markdown",
   "id": "b55f32f1-1522-4466-8c09-c7ddeb3235fe",
   "metadata": {
    "id": "b55f32f1-1522-4466-8c09-c7ddeb3235fe"
   },
   "source": [
    "# Part 2: For Loops\n",
    "A `for` loop is a convienent piece of code that allows us to run a particular code block on a series of objects. Python provides several ways that `for` loops can be implemented. For example, a `for` loop can be used to iterate over a list:"
   ]
  },
  {
   "cell_type": "code",
   "execution_count": 12,
   "id": "75e3b4b9-5e05-4be6-86da-52d77b1a8e92",
   "metadata": {
    "id": "75e3b4b9-5e05-4be6-86da-52d77b1a8e92",
    "outputId": "9e9613db-d34d-40df-86c6-93acd28b598f",
    "colab": {
     "base_uri": "https://localhost:8080/"
    },
    "ExecuteTime": {
     "end_time": "2024-02-07T20:47:23.703174400Z",
     "start_time": "2024-02-07T20:47:23.674133200Z"
    }
   },
   "outputs": [
    {
     "name": "stdout",
     "output_type": "stream",
     "text": [
      "A\n",
      "B\n",
      "C\n",
      "D\n",
      "E\n"
     ]
    }
   ],
   "source": [
    "# print the letters from the list\n",
    "letters = ['A','B','C','D','E']\n",
    "for letter in letters:\n",
    "    print(letter)"
   ]
  },
  {
   "cell_type": "markdown",
   "id": "eef490e4-1dea-4674-866c-8d280b9e0d19",
   "metadata": {
    "id": "eef490e4-1dea-4674-866c-8d280b9e0d19"
   },
   "source": [
    "A `for` loop can also iterate over a range of numbers"
   ]
  },
  {
   "cell_type": "code",
   "execution_count": 13,
   "id": "1478e29b-d8b5-4305-b507-efa6fc382a01",
   "metadata": {
    "id": "1478e29b-d8b5-4305-b507-efa6fc382a01",
    "outputId": "c075a045-73ca-4ce2-8c83-f3354524ce33",
    "colab": {
     "base_uri": "https://localhost:8080/"
    },
    "ExecuteTime": {
     "end_time": "2024-02-07T20:47:24.649130500Z",
     "start_time": "2024-02-07T20:47:24.625134400Z"
    }
   },
   "outputs": [
    {
     "name": "stdout",
     "output_type": "stream",
     "text": [
      "0\n",
      "1\n",
      "2\n",
      "3\n",
      "4\n",
      "5\n",
      "6\n",
      "7\n",
      "8\n",
      "9\n"
     ]
    }
   ],
   "source": [
    "# print all numbers up to 10\n",
    "for number in range(10):\n",
    "    print(number)"
   ]
  },
  {
   "cell_type": "markdown",
   "id": "da0349f8-2252-4645-8ee2-4f452a95386d",
   "metadata": {
    "id": "da0349f8-2252-4645-8ee2-4f452a95386d"
   },
   "source": [
    "In addition, `for` loops can be combined with `if` statements to achieve the power of both types of code blocks. To implement an `if` statement inside a `for` loop, provide another layer of indentation:"
   ]
  },
  {
   "cell_type": "code",
   "execution_count": 14,
   "id": "3a007eaf-3687-4214-bc72-6686cb4e057b",
   "metadata": {
    "id": "3a007eaf-3687-4214-bc72-6686cb4e057b",
    "outputId": "82b8a8b5-b29a-40a4-df42-b60deb2dd1e4",
    "colab": {
     "base_uri": "https://localhost:8080/"
    },
    "ExecuteTime": {
     "end_time": "2024-02-07T20:47:26.781241500Z",
     "start_time": "2024-02-07T20:47:26.750238700Z"
    }
   },
   "outputs": [
    {
     "name": "stdout",
     "output_type": "stream",
     "text": [
      "0\n",
      "2\n",
      "4\n",
      "6\n",
      "8\n"
     ]
    }
   ],
   "source": [
    "# print all the even numbers up to 10\n",
    "for number in range(10):\n",
    "    if number % 2 == 0:\n",
    "        print(number)"
   ]
  },
  {
   "cell_type": "markdown",
   "id": "aba9ba5f",
   "metadata": {
    "id": "aba9ba5f"
   },
   "source": [
    "### &#x1F914; Mini-Exercise\n",
    "Goal: Make a list all prime numbers between 2 and 100. A prime number is one which is not divisible by any other number. For example, 5 is prime because all numbers lower than 5 (not including 1) have a non-zero remainder:"
   ]
  },
  {
   "cell_type": "code",
   "execution_count": 15,
   "id": "bc89c26e-5ebf-46f1-956d-051883e43c27",
   "metadata": {
    "id": "bc89c26e-5ebf-46f1-956d-051883e43c27",
    "outputId": "f3e08ae8-12f6-446f-8929-4db6824e5aeb",
    "ExecuteTime": {
     "end_time": "2024-02-07T20:49:35.590183400Z",
     "start_time": "2024-02-07T20:49:35.551136300Z"
    }
   },
   "outputs": [
    {
     "name": "stdout",
     "output_type": "stream",
     "text": [
      "1\n",
      "2\n",
      "1\n"
     ]
    }
   ],
   "source": [
    "print(5%4)\n",
    "print(5%3)\n",
    "print(5%2)\n",
    "\n",
    "start = 2\n",
    "end = 100\n",
    "\n",
    "if start > end:\n",
    "    temp = start\n",
    "    start = end\n",
    "    end = temp\n",
    "\n",
    "\n",
    "# Calculate the array size\n",
    "size = end - start\n",
    "\n",
    "# Create the array of that size\n",
    "bucket = [0] * (size + 1)\n",
    "\n",
    "first = start\n",
    "\n",
    "# populate array\n",
    "for i in range(0, len(bucket)):\n",
    "    bucket[i] = first\n",
    "    first += 1\n",
    "\n",
    "for p in range(0, len(bucket)):\n",
    "    # Check if number is less than equal to 1\n",
    "    if bucket[p] <= 1:\n",
    "        bucket[p] = 0\n",
    "    elif bucket[p] != 2 & bucket[p] % 2 == 0:\n",
    "        bucket[p] = 0\n",
    "    \n",
    "    if bucket[p] != 2:\n",
    "        # If not, then just check the odds\n",
    "        for i in range(3, math.isqrt(bucket[p]) + 1, 2):\n",
    "            if bucket[p] % i == 0:\n",
    "                bucket[p] = 0\n",
    "\n",
    "for j in bucket:\n",
    "    if j != 0:\n",
    "        print(j + \" \")    "
   ]
  },
  {
   "cell_type": "markdown",
   "id": "b59602bb-9c8b-4d26-a8ea-8feec16645ab",
   "metadata": {
    "id": "b59602bb-9c8b-4d26-a8ea-8feec16645ab"
   },
   "source": [
    "On the other hand, 6 is not prime because it has a zero-divisor:"
   ]
  },
  {
   "cell_type": "code",
   "execution_count": null,
   "id": "0ec03801-4428-4797-a132-f122afdda6cf",
   "metadata": {
    "id": "0ec03801-4428-4797-a132-f122afdda6cf",
    "outputId": "a8d9d9ca-e782-4681-fe72-fc427367ca5a"
   },
   "outputs": [
    {
     "name": "stdout",
     "output_type": "stream",
     "text": [
      "0\n"
     ]
    }
   ],
   "source": [
    "print(6%3)"
   ]
  },
  {
   "cell_type": "markdown",
   "id": "fa93b81d-be16-405d-a972-983c6e86b8ad",
   "metadata": {
    "id": "fa93b81d-be16-405d-a972-983c6e86b8ad"
   },
   "source": [
    "For this exercise, use `for` loops and `if` statements to test whether each number between 2 and 100 is prime. If it's prime, then add it to a list called `prime_numbers`. At the end of your code, print out the list."
   ]
  },
  {
   "cell_type": "code",
   "execution_count": null,
   "id": "c7cdae49-11f4-4dbd-8ce5-ae7c15d365a9",
   "metadata": {
    "id": "c7cdae49-11f4-4dbd-8ce5-ae7c15d365a9"
   },
   "outputs": [],
   "source": []
  },
  {
   "cell_type": "markdown",
   "id": "7f966cba",
   "metadata": {
    "id": "7f966cba"
   },
   "source": [
    "# Part 3: While Loops\n",
    "\n",
    "While loops in Python are the same as in other languages -- the loop will continue to run until a particular condition is met. The condition must be Boolean expression that returns either `True` or `False`.\n",
    "\n",
    "### Boolean Operators\n",
    "\n",
    "| operator | symbol |\n",
    "| -------- | ------ |\n",
    "| less than | `<`   |\n",
    "| less than or equal | `<=`   |\n",
    "| is equal | `==`   |\n",
    "| greater than or equal | `>=`   |\n",
    "| greater than | `>`   |\n",
    "| not equal | `!=` |"
   ]
  },
  {
   "cell_type": "code",
   "execution_count": null,
   "id": "e0dad444-7483-4239-9f4e-97210ae55f52",
   "metadata": {
    "id": "e0dad444-7483-4239-9f4e-97210ae55f52",
    "outputId": "0204dcd4-d3d3-4cc9-bac2-325510562424"
   },
   "outputs": [
    {
     "name": "stdout",
     "output_type": "stream",
     "text": [
      "5\n",
      "6\n",
      "7\n",
      "8\n",
      "9\n",
      "10\n",
      "11\n",
      "12\n",
      "13\n",
      "14\n",
      "15\n",
      "16\n",
      "17\n",
      "18\n",
      "19\n",
      "20\n"
     ]
    }
   ],
   "source": [
    "# write a while loop to print all numbers between 5 and 20 (inclusive)\n",
    "value = 5\n",
    "while value <= 20:\n",
    "    print(value)\n",
    "    value += 1"
   ]
  },
  {
   "cell_type": "markdown",
   "id": "b8fd00cc-8e66-4093-b892-bbfba49c3475",
   "metadata": {
    "id": "b8fd00cc-8e66-4093-b892-bbfba49c3475"
   },
   "source": [
    "### Combining Boolean Operators\n",
    "In Python, combining boolean operators is simple -- just use the key words `or` or `and`!"
   ]
  },
  {
   "cell_type": "code",
   "execution_count": null,
   "id": "a5f96010-5bb4-4c04-b81e-5a29755de6d6",
   "metadata": {
    "id": "a5f96010-5bb4-4c04-b81e-5a29755de6d6",
    "outputId": "bd93d1d9-6ef8-4539-ecb0-832f1b309c49"
   },
   "outputs": [
    {
     "name": "stdout",
     "output_type": "stream",
     "text": [
      "5\n",
      "6\n",
      "7\n",
      "8\n",
      "9\n"
     ]
    }
   ],
   "source": [
    "# write a loop to print numbers between 5 and 20, but don't print more than 5 values\n",
    "counter = 0\n",
    "value = 5\n",
    "while value <= 20 and counter < 5:\n",
    "    print(value)\n",
    "    value += 1\n",
    "    counter += 1"
   ]
  },
  {
   "cell_type": "markdown",
   "id": "6485af7f-cae6-4ba2-a4ee-83f83d759f20",
   "metadata": {
    "id": "6485af7f-cae6-4ba2-a4ee-83f83d759f20"
   },
   "source": [
    "## &#x2757; Infinite Loops\n",
    "When using a `while` loop, it is incredibly easy to write an infinite loop. It's always a good idea to know how to escape an infinite loop. When running from the command line, you can use the standared `command-C` or `CTRL-C` to stop code that is running. In a Jupyter Notebook, use the Stop button above."
   ]
  },
  {
   "cell_type": "code",
   "execution_count": null,
   "id": "f50f7518-bf38-46c1-b35d-041f62ec13c2",
   "metadata": {
    "scrolled": true,
    "id": "f50f7518-bf38-46c1-b35d-041f62ec13c2",
    "outputId": "58af45a7-389a-44e8-9272-19dfc8ba36b3",
    "colab": {
     "base_uri": "https://localhost:8080/",
     "height": 251
    }
   },
   "outputs": [
    {
     "output_type": "error",
     "ename": "KeyboardInterrupt",
     "evalue": "",
     "traceback": [
      "\u001B[0;31m---------------------------------------------------------------------------\u001B[0m",
      "\u001B[0;31mKeyboardInterrupt\u001B[0m                         Traceback (most recent call last)",
      "\u001B[0;32m<ipython-input-1-82c684963c0b>\u001B[0m in \u001B[0;36m<cell line: 4>\u001B[0;34m()\u001B[0m\n\u001B[1;32m      2\u001B[0m \u001B[0mi\u001B[0m \u001B[0;34m=\u001B[0m \u001B[0;36m0\u001B[0m\u001B[0;34m\u001B[0m\u001B[0;34m\u001B[0m\u001B[0m\n\u001B[1;32m      3\u001B[0m \u001B[0mj\u001B[0m \u001B[0;34m=\u001B[0m \u001B[0;36m0\u001B[0m\u001B[0;34m\u001B[0m\u001B[0;34m\u001B[0m\u001B[0m\n\u001B[0;32m----> 4\u001B[0;31m \u001B[0;32mwhile\u001B[0m \u001B[0mi\u001B[0m\u001B[0;34m==\u001B[0m\u001B[0;36m0\u001B[0m\u001B[0;34m:\u001B[0m\u001B[0;34m\u001B[0m\u001B[0;34m\u001B[0m\u001B[0m\n\u001B[0m\u001B[1;32m      5\u001B[0m     \u001B[0mj\u001B[0m\u001B[0;34m+=\u001B[0m\u001B[0;36m1\u001B[0m\u001B[0;34m\u001B[0m\u001B[0;34m\u001B[0m\u001B[0m\n\u001B[1;32m      6\u001B[0m \u001B[0;31m# how can you tell whether a code block in Jupyter is running?\u001B[0m\u001B[0;34m\u001B[0m\u001B[0;34m\u001B[0m\u001B[0m\n",
      "\u001B[0;31mKeyboardInterrupt\u001B[0m: "
     ]
    }
   ],
   "source": [
    "# this is an infinite loop - run in and practice killing it\n",
    "i = 0\n",
    "j = 0\n",
    "while i==0:\n",
    "    j+=1\n",
    "# how can you tell whether a code block in Jupyter is running?"
   ]
  },
  {
   "cell_type": "markdown",
   "id": "4a6f51e9",
   "metadata": {
    "id": "4a6f51e9"
   },
   "source": [
    "### &#x1F914; Mini-Exercises"
   ]
  },
  {
   "cell_type": "markdown",
   "source": [
    "1. Reverse a given integer number\n",
    "\n",
    "\n",
    "Given: 76542\n",
    "\n",
    "Expected output: 24567"
   ],
   "metadata": {
    "id": "tCqoeqNNAEmZ"
   },
   "id": "tCqoeqNNAEmZ"
  },
  {
   "cell_type": "code",
   "execution_count": null,
   "id": "d5a88eac",
   "metadata": {
    "id": "d5a88eac"
   },
   "outputs": [],
   "source": [
    "num = 76542\n",
    "\n"
   ]
  },
  {
   "cell_type": "markdown",
   "source": [
    "2. Given an array of integers nums and an integer target, return indices of the two numbers such that they add up to target.\n",
    "\n",
    "  ```\n",
    "  Input: nums = [2,7,11,15], target = 22\n",
    "  Output: [1,3]\n",
    "  Explanation: Because nums[1] + nums[3] == 22, we print [1, 3].\n",
    "  ```\n",
    "\n",
    "  [Source](https://leetcode.com/problems/two-sum/description/)"
   ],
   "metadata": {
    "id": "90uSJg6AAHbg"
   },
   "id": "90uSJg6AAHbg"
  },
  {
   "cell_type": "code",
   "source": [
    "nums = [2,7,11,15]\n",
    "target = 9\n",
    "\n",
    "# Use 'exit()' to stop program execution OR 'break' to break out of loop\n",
    "\n",
    "# Enter your code below\n",
    "\n",
    "dictionary = {}\n",
    "n = len(nums)\n",
    "\n",
    "for i in range(n):\n",
    "    complement = target - nums[i]\n",
    "    if complement in dictionary:\n",
    "        print(dictionary[complement], \", \", i)\n",
    "    else:\n",
    "        dictionary[nums[i]] = i\n"
   ],
   "metadata": {
    "id": "di2ScGSeAGpT",
    "ExecuteTime": {
     "end_time": "2024-02-07T21:15:19.382506600Z",
     "start_time": "2024-02-07T21:15:19.352469500Z"
    }
   },
   "id": "di2ScGSeAGpT",
   "execution_count": 22,
   "outputs": [
    {
     "name": "stdout",
     "output_type": "stream",
     "text": [
      "0 ,  1\n"
     ]
    }
   ]
  },
  {
   "cell_type": "code",
   "outputs": [],
   "source": [],
   "metadata": {
    "collapsed": false
   },
   "id": "ddb10d95bedebc98"
  }
 ],
 "metadata": {
  "kernelspec": {
   "name": "python3",
   "language": "python",
   "display_name": "Python 3 (ipykernel)"
  },
  "language_info": {
   "codemirror_mode": {
    "name": "ipython",
    "version": 3
   },
   "file_extension": ".py",
   "mimetype": "text/x-python",
   "name": "python",
   "nbconvert_exporter": "python",
   "pygments_lexer": "ipython3",
   "version": "3.11.3"
  },
  "colab": {
   "provenance": []
  }
 },
 "nbformat": 4,
 "nbformat_minor": 5
}
