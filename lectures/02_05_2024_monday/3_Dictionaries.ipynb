{
 "cells": [
  {
   "cell_type": "markdown",
   "id": "49e61e1c",
   "metadata": {
    "id": "49e61e1c"
   },
   "source": [
    "# CS 122 Lecture 3: Dictionaries"
   ]
  },
  {
   "cell_type": "markdown",
   "id": "0c3a7daa-0a0a-481c-974f-6acd970606db",
   "metadata": {
    "id": "0c3a7daa-0a0a-481c-974f-6acd970606db"
   },
   "source": [
    "Learning Objectives:\n",
    "By the end of this lesson, you should be able to:\n",
    "1. Create and edit Python dictionaries\n",
    "2. Describe the types of items that can used as keys in a dictionary"
   ]
  },
  {
   "cell_type": "markdown",
   "id": "0d4b0f71",
   "metadata": {
    "id": "0d4b0f71"
   },
   "source": [
    "# Creating and Editing Dictionaries"
   ]
  },
  {
   "cell_type": "markdown",
   "id": "acf1e5a8",
   "metadata": {
    "id": "acf1e5a8"
   },
   "source": [
    "Dictionaries are used as a \"look-up table\" that associate two sets of objects. The items or \"keys\" in a dictionary must be unique but the correspondence does not need to be one-to-one."
   ]
  },
  {
   "cell_type": "code",
   "execution_count": 11,
   "id": "58d5c54f",
   "metadata": {
    "id": "58d5c54f",
    "ExecuteTime": {
     "end_time": "2024-02-05T20:31:48.249227500Z",
     "start_time": "2024-02-05T20:31:48.221225600Z"
    }
   },
   "outputs": [],
   "source": [
    "import math\n",
    "\n",
    "# make a dictionary to reference integers to their string representations\n",
    "my_dict = {1: \"one\",\n",
    "           2: \"two\",\n",
    "           3: \"three\"}"
   ]
  },
  {
   "cell_type": "markdown",
   "id": "df75076a",
   "metadata": {
    "id": "df75076a"
   },
   "source": [
    "To access the value corresponding to a key in the dictionary, pass the key:"
   ]
  },
  {
   "cell_type": "code",
   "execution_count": 2,
   "id": "10231524",
   "metadata": {
    "id": "10231524",
    "colab": {
     "base_uri": "https://localhost:8080/"
    },
    "outputId": "e444b7ed-dae0-491e-d7f2-24c9030d4bbc",
    "ExecuteTime": {
     "end_time": "2024-02-05T20:16:36.691098100Z",
     "start_time": "2024-02-05T20:16:36.636098300Z"
    }
   },
   "outputs": [
    {
     "name": "stdout",
     "output_type": "stream",
     "text": [
      "two\n"
     ]
    }
   ],
   "source": [
    "# get the string representation of the interger 2\n",
    "print(my_dict[2])"
   ]
  },
  {
   "cell_type": "markdown",
   "id": "8546d5a5",
   "metadata": {
    "id": "8546d5a5"
   },
   "source": [
    "We can access all of the look-up values with the `.keys()` method:"
   ]
  },
  {
   "cell_type": "code",
   "execution_count": 3,
   "id": "7db476bf",
   "metadata": {
    "id": "7db476bf",
    "colab": {
     "base_uri": "https://localhost:8080/"
    },
    "outputId": "77d4d1cf-fbaf-4802-b6eb-35534d982de1",
    "ExecuteTime": {
     "end_time": "2024-02-05T20:16:38.032249400Z",
     "start_time": "2024-02-05T20:16:37.980252Z"
    }
   },
   "outputs": [
    {
     "data": {
      "text/plain": "dict_keys([1, 2, 3])"
     },
     "execution_count": 3,
     "metadata": {},
     "output_type": "execute_result"
    }
   ],
   "source": [
    "# use the keys() method to access the dictionary keys\n",
    "my_dict.keys()"
   ]
  },
  {
   "cell_type": "markdown",
   "id": "cb8096f9-7aa9-4245-88bd-0a3eec091f61",
   "metadata": {
    "id": "cb8096f9-7aa9-4245-88bd-0a3eec091f61"
   },
   "source": [
    "It's important to note that the keys aren't a list:"
   ]
  },
  {
   "cell_type": "code",
   "execution_count": 4,
   "id": "aae95910-ce40-4e29-9734-8cb4d3ea68b6",
   "metadata": {
    "id": "aae95910-ce40-4e29-9734-8cb4d3ea68b6",
    "colab": {
     "base_uri": "https://localhost:8080/",
     "height": 233
    },
    "outputId": "b87b42f2-ab2d-4f53-ab39-85a9b1c43e7c",
    "ExecuteTime": {
     "end_time": "2024-02-05T20:16:40.945590700Z",
     "start_time": "2024-02-05T20:16:39.472546900Z"
    }
   },
   "outputs": [
    {
     "name": "stdout",
     "output_type": "stream",
     "text": [
      "<class 'dict_keys'>\n"
     ]
    },
    {
     "ename": "TypeError",
     "evalue": "'dict_keys' object is not subscriptable",
     "output_type": "error",
     "traceback": [
      "\u001B[1;31m---------------------------------------------------------------------------\u001B[0m",
      "\u001B[1;31mTypeError\u001B[0m                                 Traceback (most recent call last)",
      "Cell \u001B[1;32mIn[4], line 7\u001B[0m\n\u001B[0;32m      5\u001B[0m keys \u001B[38;5;241m=\u001B[39m my_dict\u001B[38;5;241m.\u001B[39mkeys()\n\u001B[0;32m      6\u001B[0m \u001B[38;5;66;03m# keys\u001B[39;00m\n\u001B[1;32m----> 7\u001B[0m \u001B[38;5;28mprint\u001B[39m(\u001B[43mkeys\u001B[49m\u001B[43m[\u001B[49m\u001B[38;5;241;43m0\u001B[39;49m\u001B[43m]\u001B[49m)\n",
      "\u001B[1;31mTypeError\u001B[0m: 'dict_keys' object is not subscriptable"
     ]
    }
   ],
   "source": [
    "# check the type of the dict keys\n",
    "print(type(my_dict.keys()))\n",
    "\n",
    "# try to access one of the keys using an index - what happens?\n",
    "keys = my_dict.keys()\n",
    "# keys\n",
    "print(keys[0])  # Error"
   ]
  },
  {
   "cell_type": "code",
   "source": [
    "# Dictionaries can support multiple data types as keys and values. You can use an integer, float, string, or Boolean as a dictionary key, but not set, list or dictionary\n",
    "\n",
    "mix_dict = {\n",
    "    1: 'int',\n",
    "    'str_key': ['Some', 'list'],\n",
    "    (2.3, 'float'): {'set', 1}\n",
    "}\n",
    "\n",
    "print(mix_dict)"
   ],
   "metadata": {
    "colab": {
     "base_uri": "https://localhost:8080/"
    },
    "id": "SOPLlMo99wI8",
    "outputId": "637ef0c9-e658-4c14-e166-2c02432f257e",
    "ExecuteTime": {
     "end_time": "2024-02-05T20:16:50.009331800Z",
     "start_time": "2024-02-05T20:16:49.933323800Z"
    }
   },
   "id": "SOPLlMo99wI8",
   "execution_count": 5,
   "outputs": [
    {
     "name": "stdout",
     "output_type": "stream",
     "text": [
      "{1: 'int', 'str_key': ['Some', 'list'], (2.3, 'float'): {'set', 1}}\n"
     ]
    }
   ]
  },
  {
   "cell_type": "markdown",
   "id": "7b20e52f",
   "metadata": {
    "id": "7b20e52f"
   },
   "source": [
    "Dictionaries are flexible and can be resized as needed. Editing a dictionary is similar to lists: dictionaries have a `pop` method for removing keys and keys can be (re-)assigned in a dictionary using the index notation:"
   ]
  },
  {
   "cell_type": "code",
   "execution_count": 6,
   "id": "a0b2f9ca",
   "metadata": {
    "id": "a0b2f9ca",
    "colab": {
     "base_uri": "https://localhost:8080/"
    },
    "outputId": "079ef5ae-9858-4bdd-dfbe-ac7997384bf3",
    "ExecuteTime": {
     "end_time": "2024-02-05T20:16:52.335541600Z",
     "start_time": "2024-02-05T20:16:52.288536Z"
    }
   },
   "outputs": [
    {
     "name": "stdout",
     "output_type": "stream",
     "text": [
      "{1: 'one', 3: 'three'}\n"
     ]
    }
   ],
   "source": [
    "# remove the 2:\"two\" key value pair using the pop method:\n",
    "my_dict.pop(2)\n",
    "\n",
    "# add a 4:\"four\" key-value pair using index notation:\n",
    "my_dict[4] = \"four\"\n",
    "\n",
    "del my_dict[4]  #\n",
    "\n",
    "# print my_dict\n",
    "print(my_dict)"
   ]
  },
  {
   "cell_type": "markdown",
   "id": "b55f32f1-1522-4466-8c09-c7ddeb3235fe",
   "metadata": {
    "id": "b55f32f1-1522-4466-8c09-c7ddeb3235fe"
   },
   "source": [
    "### &#x1F914; Mini-Exercise\n",
    "Make a dictionary for the following names of classes:\n",
    "\n",
    "| Department Code | Course Number | Course Name       |\n",
    "| --------------- | ------------- | ----------------- |\n",
    "| MATH            | 123           | Advanced Calculus |\n",
    "| MATH            | 123           | Partial Differential Equations |\n",
    "| CS              | 123           | Bioinformatics    |\n",
    "| CS              | 133           | Introduction to Data Visualization |\n",
    "\n",
    "You should be able to pass a pair of values (tuple) corresponding to the department code (str) and the course number (int) and the dictionary should return the course name."
   ]
  },
  {
   "cell_type": "code",
   "execution_count": 8,
   "id": "5de2d9e5-8bd7-4af8-b17f-919f83394515",
   "metadata": {
    "id": "5de2d9e5-8bd7-4af8-b17f-919f83394515",
    "ExecuteTime": {
     "end_time": "2024-02-05T20:23:50.131622200Z",
     "start_time": "2024-02-05T20:23:50.108584700Z"
    }
   },
   "outputs": [],
   "source": [
    "course_dict = {\n",
    "    ('MATH', 123): 'Advanced Calculus',\n",
    "    ('MATH', 133): 'Partial Differential Equations',\n",
    "    ('CS', 123): 'Bioinformatics',\n",
    "    ('CS', 133): 'Introduction to Data Visualization'\n",
    "}"
   ]
  },
  {
   "cell_type": "markdown",
   "id": "7f966cba",
   "metadata": {
    "id": "7f966cba"
   },
   "source": [
    "## &#x2757; Syntax Warning\n",
    "Python uses the same syntax for sets and dictionaries -- the curly braces `{}`. The only difference is that dictionary entries are included in pairs separated by colons while sets have entries like a list"
   ]
  },
  {
   "cell_type": "markdown",
   "id": "e8ef61db-70d6-4a4e-8c2e-3ec5d25bedff",
   "metadata": {
    "id": "e8ef61db-70d6-4a4e-8c2e-3ec5d25bedff"
   },
   "source": [
    "## Common Dictionary Methods\n",
    "\n",
    "| Method\t| Description                                                            |\n",
    "| --------- | ---------------------------------------------------------------------- |\n",
    "| keys()    | Views all the keys in the dictionary                                   |\n",
    "| values()  | Views all the values in the dictionary                                 |\n",
    "| get()    \t| Returns the value of a key if it exists, otherwise returns a default   |\n",
    "| copy()    | Makes a copy of the dictionary                                         |\n",
    "| update()  | Updates the entries of a dictionary given those in a second dictionary |"
   ]
  },
  {
   "cell_type": "markdown",
   "id": "3d122a06-53d5-43e5-8f3f-744c702b49bd",
   "metadata": {
    "id": "3d122a06-53d5-43e5-8f3f-744c702b49bd"
   },
   "source": [
    "### Using `get` rather than a key explicitly\n"
   ]
  },
  {
   "cell_type": "code",
   "execution_count": null,
   "id": "346f6bcd-abe9-4876-9e2a-22317d9deae4",
   "metadata": {
    "id": "346f6bcd-abe9-4876-9e2a-22317d9deae4",
    "colab": {
     "base_uri": "https://localhost:8080/"
    },
    "outputId": "50055d81-221a-4344-9169-d967f078940e"
   },
   "outputs": [
    {
     "output_type": "stream",
     "name": "stdout",
     "text": [
      "Mike\n",
      "Mike\n",
      "None\n"
     ]
    }
   ],
   "source": [
    "# define a dictionary with two entries\n",
    "my_dict = {'Name': 'Mike', 'Surname': 'Wood'}\n",
    "\n",
    "# the get method works the same as acessing with a key as long as the entry is in the dict\n",
    "print(my_dict.get('Name', None))\n",
    "print(my_dict['Name'])\n",
    "\n",
    "# but it is beneficial to use in case the entry cannot be found\n",
    "print(my_dict.get('Middle Name'))  # Returns None\n",
    "print(my_dict['Middle Name'])  # Gives Error"
   ]
  },
  {
   "cell_type": "markdown",
   "id": "a84b4bc8-a0bc-4ac2-a2ed-fe4d77de3992",
   "metadata": {
    "id": "a84b4bc8-a0bc-4ac2-a2ed-fe4d77de3992"
   },
   "source": [
    "## Combining Dictionaries\n",
    "Dictionaries can be combined using a union or in place."
   ]
  },
  {
   "cell_type": "code",
   "execution_count": null,
   "id": "18430f61-dcb0-4133-825a-4928221c96c0",
   "metadata": {
    "id": "18430f61-dcb0-4133-825a-4928221c96c0",
    "colab": {
     "base_uri": "https://localhost:8080/"
    },
    "outputId": "27e6bf2f-0367-4f79-9c1f-f8e9374c6dd7"
   },
   "outputs": [
    {
     "output_type": "stream",
     "name": "stdout",
     "text": [
      "c {'one': 1, 'two': 2}\n",
      "a {'one': 1}\n",
      "d {'one': 1, 'two': 2}\n",
      "a new {'one': 1, 'two': 2}\n"
     ]
    }
   ],
   "source": [
    "# As of Python 3.9, the union operator can be used to join two dictionaries\n",
    "a = {'one': 1}\n",
    "b = {'two': 2}\n",
    "c = a | b\n",
    "print('c', c)\n",
    "\n",
    "# However, this does not change the dictionary contents\n",
    "print('a', a)\n",
    "\n",
    "# You can also use dictionary unpacking\n",
    "d = {**a, **b}\n",
    "print('d', d)\n",
    "\n",
    "# If you want to join in place, use the update method\n",
    "a.update(b)\n",
    "print('a new', a)"
   ]
  },
  {
   "cell_type": "markdown",
   "source": [
    "### &#x1F914; Mini-Exercises\n",
    "\n",
    "*   Not graded\n",
    "\n",
    "*   **Create a copy of the notebook to save your work** (applies to all future execises)\n",
    "\n",
    "\n",
    "\n",
    "\n",
    "\n",
    "\n"
   ],
   "metadata": {
    "id": "1VfRfKX_Q18m"
   },
   "id": "1VfRfKX_Q18m"
  },
  {
   "cell_type": "markdown",
   "source": [
    "1. Use modulo to find the remainder when 403 is divided by 73"
   ],
   "metadata": {
    "id": "wXfG8EWzROHX"
   },
   "id": "wXfG8EWzROHX"
  },
  {
   "cell_type": "code",
   "source": [
    "403 % 73"
   ],
   "metadata": {
    "id": "1FmcN2ygRPMA",
    "ExecuteTime": {
     "end_time": "2024-02-05T20:32:13.033491600Z",
     "start_time": "2024-02-05T20:32:12.956453400Z"
    }
   },
   "id": "1FmcN2ygRPMA",
   "execution_count": 13,
   "outputs": [
    {
     "data": {
      "text/plain": "38"
     },
     "execution_count": 13,
     "metadata": {},
     "output_type": "execute_result"
    }
   ]
  },
  {
   "cell_type": "markdown",
   "source": [
    "2. Find absolute value for 3 squared minus square root of 86\n",
    "\n"
   ],
   "metadata": {
    "id": "2vMnwbH1RPwY"
   },
   "id": "2vMnwbH1RPwY"
  },
  {
   "cell_type": "code",
   "source": [
    "abs(3 ** 2 - math.sqrt(86))"
   ],
   "metadata": {
    "id": "3CD5q8lKRlTa",
    "ExecuteTime": {
     "end_time": "2024-02-05T20:32:14.156502100Z",
     "start_time": "2024-02-05T20:32:14.120504700Z"
    }
   },
   "id": "3CD5q8lKRlTa",
   "execution_count": 14,
   "outputs": [
    {
     "data": {
      "text/plain": "0.27361849549570394"
     },
     "execution_count": 14,
     "metadata": {},
     "output_type": "execute_result"
    }
   ]
  },
  {
   "cell_type": "markdown",
   "source": [
    "3. What is the output of the following dictionary operation?\n",
    "\n",
    "  ```\n",
    "  dict1 = {\"name\": \"Sam\", \"salary\": 4000}\n",
    "  temp = dict1.get(\"age\", 0)\n",
    "  print(temp)\n",
    "  ```"
   ],
   "metadata": {
    "id": "KZiaXspKSdFy"
   },
   "id": "KZiaXspKSdFy"
  },
  {
   "cell_type": "code",
   "source": [
    "dict1 = {\"name\": \"Sam\", \"salary\": 4000}\n",
    "temp = dict1.get(\"age\", 0)\n",
    "print(temp)"
   ],
   "metadata": {
    "id": "h0v1PsXeZiid",
    "ExecuteTime": {
     "end_time": "2024-02-05T20:33:08.057280100Z",
     "start_time": "2024-02-05T20:33:08.011249400Z"
    }
   },
   "id": "h0v1PsXeZiid",
   "execution_count": 15,
   "outputs": [
    {
     "name": "stdout",
     "output_type": "stream",
     "text": [
      "0\n"
     ]
    }
   ]
  },
  {
   "cell_type": "markdown",
   "source": [
    "Ans: returns 0"
   ],
   "metadata": {
    "id": "hr2TmB6wVDPF"
   },
   "id": "hr2TmB6wVDPF"
  },
  {
   "cell_type": "markdown",
   "source": [
    "4. What is the output of the following?"
   ],
   "metadata": {
    "id": "83On0GQQVZL2"
   },
   "id": "83On0GQQVZL2"
  },
  {
   "cell_type": "code",
   "source": [
    "sampleDict = dict([\n",
    "    ('first', 1),\n",
    "    ('second', 2),\n",
    "    ('third', 3)\n",
    "])\n",
    "\n",
    "print(sampleDict)"
   ],
   "metadata": {
    "id": "iLOLaSbIVUV7",
    "ExecuteTime": {
     "end_time": "2024-02-05T20:33:21.965799700Z",
     "start_time": "2024-02-05T20:33:21.926759200Z"
    }
   },
   "id": "iLOLaSbIVUV7",
   "execution_count": 16,
   "outputs": [
    {
     "name": "stdout",
     "output_type": "stream",
     "text": [
      "{'first': 1, 'second': 2, 'third': 3}\n"
     ]
    }
   ]
  },
  {
   "cell_type": "markdown",
   "source": [
    "5. Change the value of a **history** subject to 82"
   ],
   "metadata": {
    "id": "cFEiXmXCVi4G"
   },
   "id": "cFEiXmXCVi4G"
  },
  {
   "cell_type": "code",
   "source": [
    "sampleDict = {\n",
    "    'class': {\n",
    "        'student': {\n",
    "            'name': 'Deep',\n",
    "            'marks': {\n",
    "                'physics': 70,\n",
    "                'history': 80\n",
    "            }\n",
    "        }\n",
    "    }\n",
    "}\n",
    "\n",
    "# Enter code here\n",
    "sampleDict['class']['student']['marks']['history'] = 82\n",
    "\n",
    "print(sampleDict.get('class'))"
   ],
   "metadata": {
    "id": "khmeiQAGVtpT",
    "ExecuteTime": {
     "end_time": "2024-02-05T20:45:29.630158200Z",
     "start_time": "2024-02-05T20:45:29.606160600Z"
    }
   },
   "id": "khmeiQAGVtpT",
   "execution_count": 21,
   "outputs": [
    {
     "name": "stdout",
     "output_type": "stream",
     "text": [
      "{'student': {'name': 'Deep', 'marks': {'physics': 70, 'history': 82}}}\n"
     ]
    }
   ]
  },
  {
   "cell_type": "markdown",
   "source": [
    "6. Merge two Python dictionaries into one"
   ],
   "metadata": {
    "id": "1FbP8Lo6X0jX"
   },
   "id": "1FbP8Lo6X0jX"
  },
  {
   "cell_type": "code",
   "source": [
    "dict1 = {'Ten': 10, 'Twenty': 20, 'Thirty': 30}\n",
    "dict2 = {'Thirty': 30, 'Fourty': 40, 'Fifty': 50}\n",
    "\n",
    "# Enter code here"
   ],
   "metadata": {
    "id": "It1oQAdsX2r4"
   },
   "id": "It1oQAdsX2r4",
   "execution_count": null,
   "outputs": []
  },
  {
   "cell_type": "markdown",
   "source": [
    "7. Write a program to rename a key `city` to `location` in the following dictionary\n",
    "\n",
    "  *Hint:* Remove the city from a given dictionary and add a new key (location) into a dictionary with the same value"
   ],
   "metadata": {
    "id": "8LsUdTDiYSn1"
   },
   "id": "8LsUdTDiYSn1"
  },
  {
   "cell_type": "code",
   "source": [
    "sample_dict = {\n",
    "    \"name\": \"Kelly\",\n",
    "    \"age\": 25,\n",
    "    \"salary\": 8000,\n",
    "    \"city\": \"New york\"\n",
    "}\n",
    "\n",
    "# Enter code below"
   ],
   "metadata": {
    "id": "kazU-8deYm5S"
   },
   "id": "kazU-8deYm5S",
   "execution_count": null,
   "outputs": []
  }
 ],
 "metadata": {
  "kernelspec": {
   "name": "python3",
   "language": "python",
   "display_name": "Python 3 (ipykernel)"
  },
  "language_info": {
   "codemirror_mode": {
    "name": "ipython",
    "version": 3
   },
   "file_extension": ".py",
   "mimetype": "text/x-python",
   "name": "python",
   "nbconvert_exporter": "python",
   "pygments_lexer": "ipython3",
   "version": "3.11.3"
  },
  "colab": {
   "provenance": []
  }
 },
 "nbformat": 4,
 "nbformat_minor": 5
}
